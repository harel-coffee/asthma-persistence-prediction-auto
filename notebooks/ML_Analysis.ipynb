{
 "cells": [
  {
   "cell_type": "markdown",
   "metadata": {},
   "source": [
    "# Import Dependencies"
   ]
  },
  {
   "cell_type": "code",
   "execution_count": 1,
   "metadata": {},
   "outputs": [],
   "source": [
    "#System tools\n",
    "import time\n",
    "import datetime\n",
    "import os\n",
    "import io\n",
    "from dotenv import load_dotenv, find_dotenv\n",
    "import pickle\n",
    "import dill\n",
    "import glob\n",
    "import sys, getopt\n",
    "from sklearn.externals.joblib import Parallel, delayed\n",
    "import multiprocessing\n",
    "\n",
    "#Database tools\n",
    "import sqlalchemy as sa\n",
    "import psycopg2 as p\n",
    "import pandas as pd\n",
    "\n",
    "#Math tools\n",
    "import numpy as np\n",
    "from collections import Counter\n",
    "import itertools as it\n",
    "\n",
    "\n",
    "#ML tools\n",
    "from sklearn.preprocessing import normalize, scale, StandardScaler\n",
    "from sklearn.model_selection import train_test_split, cross_val_score, StratifiedKFold\n",
    "\n",
    "from sklearn.feature_selection import chi2\n",
    "from sklearn.feature_selection import f_classif\n",
    "from skrebate import ReliefF, MultiSURF\n",
    "\n",
    "from sklearn.linear_model import LogisticRegression\n",
    "from sklearn.neighbors import KNeighborsClassifier\n",
    "from sklearn.svm import SVC\n",
    "from sklearn.tree import DecisionTreeClassifier\n",
    "from sklearn.ensemble import RandomForestClassifier\n",
    "from sklearn.ensemble import AdaBoostClassifier\n",
    "import xgboost as xgb\n",
    "from xgboost.sklearn import XGBClassifier\n",
    "\n",
    "from sklearn.metrics import classification_report, confusion_matrix\n",
    "from sklearn.metrics import auc, roc_auc_score, roc_curve, precision_recall_curve, average_precision_score\n",
    "from sklearn.metrics import make_scorer\n",
    "\n",
    "from sklearn.model_selection import cross_validate\n",
    "\n",
    "from hyperopt import fmin, tpe, hp, STATUS_OK, Trials\n",
    "from hyperopt.pyll.stochastic import sample\n",
    "\n",
    "\n",
    "import eli5\n",
    "from eli5.sklearn import PermutationImportance\n",
    "\n",
    "#Class imbalance modules\n",
    "from imblearn.under_sampling import RandomUnderSampler, NearMiss, CondensedNearestNeighbour\n",
    "from imblearn.under_sampling import EditedNearestNeighbours, RepeatedEditedNearestNeighbours,TomekLinks\n",
    "from imblearn.over_sampling import RandomOverSampler, SMOTE\n",
    "from imblearn.combine import SMOTEENN, SMOTETomek\n",
    "from imblearn.ensemble import BalanceCascade, EasyEnsemble\n",
    "\n",
    "#Statistical Tests\n",
    "from scipy.stats import friedmanchisquare\n",
    "import scikit_posthocs as sp\n",
    "from scipy.stats import wilcoxon\n",
    "from mlxtend.evaluate import permutation_test\n",
    "\n",
    "\n",
    "#Plotting and viz\n",
    "from matplotlib import pyplot as plt\n",
    "import seaborn as sns\n",
    "from matplotlib.backends.backend_pdf import PdfPages\n",
    "\n",
    "\n",
    "#User defined modules\n",
    "currentWorkingDirectory = '../models/'\n",
    "sys.path.append(currentWorkingDirectory)\n",
    "from feature_selection_methods import chi2_fs, anova_fs, relieff_fs, multisurf_fs\n"
   ]
  },
  {
   "cell_type": "markdown",
   "metadata": {},
   "source": [
    "# User-defined Functions"
   ]
  },
  {
   "cell_type": "code",
   "execution_count": 2,
   "metadata": {},
   "outputs": [],
   "source": [
    "def plot_heatmap(data,xlabel,ylabel):\n",
    "    f, ax = plt.subplots(1, 1, figsize=(8, 8), sharex=False)\n",
    "    heatmap = sns.heatmap(data,vmin=0,vmax=1,annot = True, linecolor = 'black', \n",
    "                linewidth = 0.1,square = True,cmap=\"YlGnBu\", ax = ax);\n",
    "\n",
    "    ax.set_xlabel(xlabel, fontsize='xx-large')\n",
    "    ax.xaxis.labelpad = 20\n",
    "    ax.set_ylabel(ylabel, fontsize='xx-large')\n",
    "    ax.yaxis.labelpad = 20    \n",
    "    ax.set_yticklabels(heatmap.get_yticklabels(), rotation=360)"
   ]
  },
  {
   "cell_type": "code",
   "execution_count": 27,
   "metadata": {},
   "outputs": [],
   "source": [
    "def set_tick_fontsize(ax, fs):\n",
    "    for tick in ax.xaxis.get_major_ticks():\n",
    "        tick.label.set_fontsize(fs)\n",
    "    for tick in ax.yaxis.get_major_ticks():\n",
    "        tick.label.set_fontsize(fs)"
   ]
  },
  {
   "cell_type": "code",
   "execution_count": 4,
   "metadata": {},
   "outputs": [],
   "source": [
    "def savePdf(filename,dpi=300, close_fig_when_done=True):\n",
    "    pdf = PdfPages(filename)\n",
    "    pdf.savefig(dpi=dpi, bbox_inches='tight', pad_inches=.15)\n",
    "    pdf.close()"
   ]
  },
  {
   "cell_type": "markdown",
   "metadata": {},
   "source": [
    "# Analysis"
   ]
  },
  {
   "cell_type": "code",
   "execution_count": 11,
   "metadata": {},
   "outputs": [],
   "source": [
    "pd.set_option('display.max_columns', 999)"
   ]
  },
  {
   "cell_type": "code",
   "execution_count": null,
   "metadata": {},
   "outputs": [],
   "source": [
    "file_path = '../models/'\n",
    "with open(file_path+'train_data.pik', \"rb\") as f:\n",
    "        data = dill.load(f)"
   ]
  },
  {
   "cell_type": "markdown",
   "metadata": {},
   "source": [
    "## Naive Bayes"
   ]
  },
  {
   "cell_type": "code",
   "execution_count": 31,
   "metadata": {},
   "outputs": [],
   "source": [
    "nb_path = '../models/results/final_results/nb.pik'\n",
    "with open(nb_path, \"rb\") as f:\n",
    "    nb_results = dill.load(f)\n",
    "        "
   ]
  },
  {
   "cell_type": "code",
   "execution_count": 32,
   "metadata": {},
   "outputs": [],
   "source": [
    "nb_results_df = nb_results['results_df']"
   ]
  },
  {
   "cell_type": "code",
   "execution_count": 33,
   "metadata": {},
   "outputs": [
    {
     "data": {
      "text/plain": [
       "(72, 8)"
      ]
     },
     "execution_count": 33,
     "metadata": {},
     "output_type": "execute_result"
    }
   ],
   "source": [
    "nb_results_df.shape"
   ]
  },
  {
   "cell_type": "code",
   "execution_count": 34,
   "metadata": {},
   "outputs": [
    {
     "data": {
      "text/html": [
       "<div>\n",
       "<style scoped>\n",
       "    .dataframe tbody tr th:only-of-type {\n",
       "        vertical-align: middle;\n",
       "    }\n",
       "\n",
       "    .dataframe tbody tr th {\n",
       "        vertical-align: top;\n",
       "    }\n",
       "\n",
       "    .dataframe thead th {\n",
       "        text-align: right;\n",
       "    }\n",
       "</style>\n",
       "<table border=\"1\" class=\"dataframe\">\n",
       "  <thead>\n",
       "    <tr style=\"text-align: right;\">\n",
       "      <th></th>\n",
       "      <th>Algorithm</th>\n",
       "      <th>AUCPR_CV</th>\n",
       "      <th>AUCROC_CV</th>\n",
       "      <th>NPV_CV</th>\n",
       "      <th>Precision_CV</th>\n",
       "      <th>Sensitivity_CV</th>\n",
       "      <th>Specificity_CV</th>\n",
       "      <th>F1_CV</th>\n",
       "    </tr>\n",
       "  </thead>\n",
       "  <tbody>\n",
       "    <tr>\n",
       "      <th>46</th>\n",
       "      <td>class_weight_cb_anovaF_fs_01_nb</td>\n",
       "      <td>0.288874</td>\n",
       "      <td>0.780102</td>\n",
       "      <td>0.310826</td>\n",
       "      <td>0.919312</td>\n",
       "      <td>0.881042</td>\n",
       "      <td>0.397614</td>\n",
       "      <td>0.899385</td>\n",
       "    </tr>\n",
       "    <tr>\n",
       "      <th>25</th>\n",
       "      <td>no_cb_anovaF_fs_01_nb</td>\n",
       "      <td>0.288874</td>\n",
       "      <td>0.780102</td>\n",
       "      <td>0.310826</td>\n",
       "      <td>0.919312</td>\n",
       "      <td>0.881042</td>\n",
       "      <td>0.397614</td>\n",
       "      <td>0.899385</td>\n",
       "    </tr>\n",
       "    <tr>\n",
       "      <th>36</th>\n",
       "      <td>class_weight_cb_anova_reliefF_fs_01_nb</td>\n",
       "      <td>0.288702</td>\n",
       "      <td>0.779676</td>\n",
       "      <td>0.311283</td>\n",
       "      <td>0.919672</td>\n",
       "      <td>0.880815</td>\n",
       "      <td>0.400277</td>\n",
       "      <td>0.899407</td>\n",
       "    </tr>\n",
       "    <tr>\n",
       "      <th>68</th>\n",
       "      <td>no_cb_anova_reliefF_fs_01_nb</td>\n",
       "      <td>0.288702</td>\n",
       "      <td>0.779676</td>\n",
       "      <td>0.311283</td>\n",
       "      <td>0.919672</td>\n",
       "      <td>0.880815</td>\n",
       "      <td>0.400277</td>\n",
       "      <td>0.899407</td>\n",
       "    </tr>\n",
       "    <tr>\n",
       "      <th>11</th>\n",
       "      <td>rand_under_cb_chi2_multisurf_fs_01_nb</td>\n",
       "      <td>0.286386</td>\n",
       "      <td>0.763433</td>\n",
       "      <td>0.201047</td>\n",
       "      <td>0.956637</td>\n",
       "      <td>0.592147</td>\n",
       "      <td>0.786090</td>\n",
       "      <td>0.728616</td>\n",
       "    </tr>\n",
       "  </tbody>\n",
       "</table>\n",
       "</div>"
      ],
      "text/plain": [
       "                                 Algorithm  AUCPR_CV  AUCROC_CV    NPV_CV  \\\n",
       "46         class_weight_cb_anovaF_fs_01_nb  0.288874   0.780102  0.310826   \n",
       "25                   no_cb_anovaF_fs_01_nb  0.288874   0.780102  0.310826   \n",
       "36  class_weight_cb_anova_reliefF_fs_01_nb  0.288702   0.779676  0.311283   \n",
       "68            no_cb_anova_reliefF_fs_01_nb  0.288702   0.779676  0.311283   \n",
       "11   rand_under_cb_chi2_multisurf_fs_01_nb  0.286386   0.763433  0.201047   \n",
       "\n",
       "    Precision_CV  Sensitivity_CV  Specificity_CV     F1_CV  \n",
       "46      0.919312        0.881042        0.397614  0.899385  \n",
       "25      0.919312        0.881042        0.397614  0.899385  \n",
       "36      0.919672        0.880815        0.400277  0.899407  \n",
       "68      0.919672        0.880815        0.400277  0.899407  \n",
       "11      0.956637        0.592147        0.786090  0.728616  "
      ]
     },
     "execution_count": 34,
     "metadata": {},
     "output_type": "execute_result"
    }
   ],
   "source": [
    "nb_results_df.head()"
   ]
  },
  {
   "cell_type": "code",
   "execution_count": 35,
   "metadata": {},
   "outputs": [
    {
     "data": {
      "text/plain": [
       "{'alpha': 1.7548363072244115}"
      ]
     },
     "execution_count": 35,
     "metadata": {},
     "output_type": "execute_result"
    }
   ],
   "source": [
    "nb_results['results']['opt_param']"
   ]
  },
  {
   "cell_type": "code",
   "execution_count": 36,
   "metadata": {},
   "outputs": [
    {
     "data": {
      "text/plain": [
       "{'loss': -0.288873742496868,\n",
       " 'loss_cv': [0.32782498408946503,\n",
       "  0.31966093461533907,\n",
       "  0.2686911246491028,\n",
       "  0.25264173125582806,\n",
       "  0.27554993787460497,\n",
       "  0.32782498408946503,\n",
       "  0.31966093461533907,\n",
       "  0.2686911246491028,\n",
       "  0.25264173125582806,\n",
       "  0.27554993787460497],\n",
       " 'params': {'alpha': 1.7548363072244115},\n",
       " 'clf_name': 'multinomial',\n",
       " 'status': 'ok'}"
      ]
     },
     "execution_count": 36,
     "metadata": {},
     "output_type": "execute_result"
    }
   ],
   "source": [
    "nb_results['results']['param_sorted'][0]"
   ]
  },
  {
   "cell_type": "code",
   "execution_count": 37,
   "metadata": {},
   "outputs": [
    {
     "name": "stdout",
     "output_type": "stream",
     "text": [
      "mean 110.6\n",
      "min 99\n",
      "max 123\n"
     ]
    }
   ],
   "source": [
    "count = []\n",
    "for i in range(len(nb_results['results']['cv_data'])):\n",
    "    count.append(len(nb_results['results']['cv_data'][i][4]))\n",
    "print('mean', np.mean(count))\n",
    "print('min',min(count))\n",
    "print('max',max(count))"
   ]
  },
  {
   "cell_type": "markdown",
   "metadata": {},
   "source": [
    "## K Nearest Neighbors"
   ]
  },
  {
   "cell_type": "code",
   "execution_count": 38,
   "metadata": {},
   "outputs": [],
   "source": [
    "knn_path = '../models/results/final_results/knn.pik'\n",
    "with open(knn_path, \"rb\") as f:\n",
    "    knn_results = dill.load(f)\n",
    "        "
   ]
  },
  {
   "cell_type": "code",
   "execution_count": 39,
   "metadata": {},
   "outputs": [],
   "source": [
    "knn_results_df = knn_results['results_df']"
   ]
  },
  {
   "cell_type": "code",
   "execution_count": 40,
   "metadata": {},
   "outputs": [
    {
     "data": {
      "text/plain": [
       "(72, 8)"
      ]
     },
     "execution_count": 40,
     "metadata": {},
     "output_type": "execute_result"
    }
   ],
   "source": [
    "knn_results_df.shape"
   ]
  },
  {
   "cell_type": "code",
   "execution_count": 41,
   "metadata": {},
   "outputs": [
    {
     "data": {
      "text/html": [
       "<div>\n",
       "<style scoped>\n",
       "    .dataframe tbody tr th:only-of-type {\n",
       "        vertical-align: middle;\n",
       "    }\n",
       "\n",
       "    .dataframe tbody tr th {\n",
       "        vertical-align: top;\n",
       "    }\n",
       "\n",
       "    .dataframe thead th {\n",
       "        text-align: right;\n",
       "    }\n",
       "</style>\n",
       "<table border=\"1\" class=\"dataframe\">\n",
       "  <thead>\n",
       "    <tr style=\"text-align: right;\">\n",
       "      <th></th>\n",
       "      <th>Algorithm</th>\n",
       "      <th>AUCPR_CV</th>\n",
       "      <th>AUCROC_CV</th>\n",
       "      <th>NPV_CV</th>\n",
       "      <th>Precision_CV</th>\n",
       "      <th>Sensitivity_CV</th>\n",
       "      <th>Specificity_CV</th>\n",
       "      <th>F1_CV</th>\n",
       "    </tr>\n",
       "  </thead>\n",
       "  <tbody>\n",
       "    <tr>\n",
       "      <th>51</th>\n",
       "      <td>rand_under_cb_multisurf_fs_01_knn</td>\n",
       "      <td>0.396224</td>\n",
       "      <td>0.823088</td>\n",
       "      <td>0.212436</td>\n",
       "      <td>0.974819</td>\n",
       "      <td>0.570787</td>\n",
       "      <td>0.881591</td>\n",
       "      <td>0.716120</td>\n",
       "    </tr>\n",
       "    <tr>\n",
       "      <th>38</th>\n",
       "      <td>tomek_enn_cb_chi2_reliefF_fs_01_knn</td>\n",
       "      <td>0.395810</td>\n",
       "      <td>0.829388</td>\n",
       "      <td>0.457442</td>\n",
       "      <td>0.915089</td>\n",
       "      <td>0.951031</td>\n",
       "      <td>0.312775</td>\n",
       "      <td>0.932612</td>\n",
       "    </tr>\n",
       "    <tr>\n",
       "      <th>54</th>\n",
       "      <td>class_weight_cb_no_fs_01_knn</td>\n",
       "      <td>0.395264</td>\n",
       "      <td>0.826622</td>\n",
       "      <td>NaN</td>\n",
       "      <td>0.886048</td>\n",
       "      <td>1.000000</td>\n",
       "      <td>0.000000</td>\n",
       "      <td>0.939582</td>\n",
       "    </tr>\n",
       "    <tr>\n",
       "      <th>23</th>\n",
       "      <td>no_cb_no_fs_01_knn</td>\n",
       "      <td>0.395264</td>\n",
       "      <td>0.826622</td>\n",
       "      <td>NaN</td>\n",
       "      <td>0.886048</td>\n",
       "      <td>1.000000</td>\n",
       "      <td>0.000000</td>\n",
       "      <td>0.939582</td>\n",
       "    </tr>\n",
       "    <tr>\n",
       "      <th>59</th>\n",
       "      <td>renn_cb_chi2_reliefF_fs_01_knn</td>\n",
       "      <td>0.395140</td>\n",
       "      <td>0.826170</td>\n",
       "      <td>0.357797</td>\n",
       "      <td>0.938990</td>\n",
       "      <td>0.867301</td>\n",
       "      <td>0.560072</td>\n",
       "      <td>0.901354</td>\n",
       "    </tr>\n",
       "  </tbody>\n",
       "</table>\n",
       "</div>"
      ],
      "text/plain": [
       "                              Algorithm  AUCPR_CV  AUCROC_CV    NPV_CV  \\\n",
       "51    rand_under_cb_multisurf_fs_01_knn  0.396224   0.823088  0.212436   \n",
       "38  tomek_enn_cb_chi2_reliefF_fs_01_knn  0.395810   0.829388  0.457442   \n",
       "54         class_weight_cb_no_fs_01_knn  0.395264   0.826622       NaN   \n",
       "23                   no_cb_no_fs_01_knn  0.395264   0.826622       NaN   \n",
       "59       renn_cb_chi2_reliefF_fs_01_knn  0.395140   0.826170  0.357797   \n",
       "\n",
       "    Precision_CV  Sensitivity_CV  Specificity_CV     F1_CV  \n",
       "51      0.974819        0.570787        0.881591  0.716120  \n",
       "38      0.915089        0.951031        0.312775  0.932612  \n",
       "54      0.886048        1.000000        0.000000  0.939582  \n",
       "23      0.886048        1.000000        0.000000  0.939582  \n",
       "59      0.938990        0.867301        0.560072  0.901354  "
      ]
     },
     "execution_count": 41,
     "metadata": {},
     "output_type": "execute_result"
    }
   ],
   "source": [
    "knn_results_df.head()"
   ]
  },
  {
   "cell_type": "code",
   "execution_count": 42,
   "metadata": {},
   "outputs": [
    {
     "data": {
      "text/plain": [
       "{'n_neighbors': 257, 'p': 2, 'weights': 'distance'}"
      ]
     },
     "execution_count": 42,
     "metadata": {},
     "output_type": "execute_result"
    }
   ],
   "source": [
    "knn_results['results']['opt_param']"
   ]
  },
  {
   "cell_type": "code",
   "execution_count": 43,
   "metadata": {},
   "outputs": [
    {
     "name": "stdout",
     "output_type": "stream",
     "text": [
      "mean 426.4\n",
      "min 413\n",
      "max 442\n"
     ]
    }
   ],
   "source": [
    "count = []\n",
    "for i in range(len(knn_results['results']['cv_data'])):\n",
    "    count.append(len(knn_results['results']['cv_data'][i][4]))\n",
    "print('mean', np.mean(count))\n",
    "print('min',min(count))\n",
    "print('max',max(count))"
   ]
  },
  {
   "cell_type": "markdown",
   "metadata": {},
   "source": [
    "## Logistic Regression"
   ]
  },
  {
   "cell_type": "code",
   "execution_count": 44,
   "metadata": {},
   "outputs": [],
   "source": [
    "lr_path = '../models/results/final_results/lr.pik'\n",
    "with open(lr_path, \"rb\") as f:\n",
    "    lr_results = dill.load(f)\n",
    "        "
   ]
  },
  {
   "cell_type": "code",
   "execution_count": 45,
   "metadata": {},
   "outputs": [],
   "source": [
    "lr_results_df = lr_results['results_df']"
   ]
  },
  {
   "cell_type": "code",
   "execution_count": 46,
   "metadata": {},
   "outputs": [
    {
     "data": {
      "text/plain": [
       "(72, 8)"
      ]
     },
     "execution_count": 46,
     "metadata": {},
     "output_type": "execute_result"
    }
   ],
   "source": [
    "lr_results_df.shape"
   ]
  },
  {
   "cell_type": "code",
   "execution_count": 47,
   "metadata": {},
   "outputs": [
    {
     "data": {
      "text/html": [
       "<div>\n",
       "<style scoped>\n",
       "    .dataframe tbody tr th:only-of-type {\n",
       "        vertical-align: middle;\n",
       "    }\n",
       "\n",
       "    .dataframe tbody tr th {\n",
       "        vertical-align: top;\n",
       "    }\n",
       "\n",
       "    .dataframe thead th {\n",
       "        text-align: right;\n",
       "    }\n",
       "</style>\n",
       "<table border=\"1\" class=\"dataframe\">\n",
       "  <thead>\n",
       "    <tr style=\"text-align: right;\">\n",
       "      <th></th>\n",
       "      <th>Algorithm</th>\n",
       "      <th>AUCPR_CV</th>\n",
       "      <th>AUCROC_CV</th>\n",
       "      <th>NPV_CV</th>\n",
       "      <th>Precision_CV</th>\n",
       "      <th>Sensitivity_CV</th>\n",
       "      <th>Specificity_CV</th>\n",
       "      <th>F1_CV</th>\n",
       "    </tr>\n",
       "  </thead>\n",
       "  <tbody>\n",
       "    <tr>\n",
       "      <th>19</th>\n",
       "      <td>rand_under_cb_chi2_reliefF_fs_01_lr</td>\n",
       "      <td>0.416636</td>\n",
       "      <td>0.837200</td>\n",
       "      <td>0.280497</td>\n",
       "      <td>0.965214</td>\n",
       "      <td>0.732110</td>\n",
       "      <td>0.791486</td>\n",
       "      <td>0.831066</td>\n",
       "    </tr>\n",
       "    <tr>\n",
       "      <th>0</th>\n",
       "      <td>no_cb_no_fs_01_lr</td>\n",
       "      <td>0.415453</td>\n",
       "      <td>0.842485</td>\n",
       "      <td>0.531855</td>\n",
       "      <td>0.900619</td>\n",
       "      <td>0.981821</td>\n",
       "      <td>0.157292</td>\n",
       "      <td>0.939444</td>\n",
       "    </tr>\n",
       "    <tr>\n",
       "      <th>6</th>\n",
       "      <td>tomek_cb_no_fs_01_lr</td>\n",
       "      <td>0.415116</td>\n",
       "      <td>0.842494</td>\n",
       "      <td>0.530699</td>\n",
       "      <td>0.902418</td>\n",
       "      <td>0.979663</td>\n",
       "      <td>0.175857</td>\n",
       "      <td>0.939422</td>\n",
       "    </tr>\n",
       "    <tr>\n",
       "      <th>56</th>\n",
       "      <td>rand_under_cb_anova_multisurf_fs_01_lr</td>\n",
       "      <td>0.414986</td>\n",
       "      <td>0.838051</td>\n",
       "      <td>0.282536</td>\n",
       "      <td>0.963318</td>\n",
       "      <td>0.738358</td>\n",
       "      <td>0.777365</td>\n",
       "      <td>0.834173</td>\n",
       "    </tr>\n",
       "    <tr>\n",
       "      <th>27</th>\n",
       "      <td>rand_under_cb_chi2_multisurf_fs_01_lr</td>\n",
       "      <td>0.414831</td>\n",
       "      <td>0.837017</td>\n",
       "      <td>0.280839</td>\n",
       "      <td>0.965606</td>\n",
       "      <td>0.732111</td>\n",
       "      <td>0.794129</td>\n",
       "      <td>0.831307</td>\n",
       "    </tr>\n",
       "  </tbody>\n",
       "</table>\n",
       "</div>"
      ],
      "text/plain": [
       "                                 Algorithm  AUCPR_CV  AUCROC_CV    NPV_CV  \\\n",
       "19     rand_under_cb_chi2_reliefF_fs_01_lr  0.416636   0.837200  0.280497   \n",
       "0                        no_cb_no_fs_01_lr  0.415453   0.842485  0.531855   \n",
       "6                     tomek_cb_no_fs_01_lr  0.415116   0.842494  0.530699   \n",
       "56  rand_under_cb_anova_multisurf_fs_01_lr  0.414986   0.838051  0.282536   \n",
       "27   rand_under_cb_chi2_multisurf_fs_01_lr  0.414831   0.837017  0.280839   \n",
       "\n",
       "    Precision_CV  Sensitivity_CV  Specificity_CV     F1_CV  \n",
       "19      0.965214        0.732110        0.791486  0.831066  \n",
       "0       0.900619        0.981821        0.157292  0.939444  \n",
       "6       0.902418        0.979663        0.175857  0.939422  \n",
       "56      0.963318        0.738358        0.777365  0.834173  \n",
       "27      0.965606        0.732111        0.794129  0.831307  "
      ]
     },
     "execution_count": 47,
     "metadata": {},
     "output_type": "execute_result"
    }
   ],
   "source": [
    "lr_results_df.head()"
   ]
  },
  {
   "cell_type": "code",
   "execution_count": 48,
   "metadata": {},
   "outputs": [
    {
     "data": {
      "text/plain": [
       "{'C': 0.142544469107113, 'penalty': 'l2'}"
      ]
     },
     "execution_count": 48,
     "metadata": {},
     "output_type": "execute_result"
    }
   ],
   "source": [
    "lr_results['results']['opt_param']"
   ]
  },
  {
   "cell_type": "code",
   "execution_count": 49,
   "metadata": {},
   "outputs": [
    {
     "name": "stdout",
     "output_type": "stream",
     "text": [
      "mean 38.4\n",
      "min 33\n",
      "max 43\n"
     ]
    }
   ],
   "source": [
    "count = []\n",
    "for i in range(len(lr_results['results']['cv_data'])):\n",
    "    count.append(len(lr_results['results']['cv_data'][i][4]))\n",
    "print('mean', np.mean(count))\n",
    "print('min',min(count))\n",
    "print('max',max(count))"
   ]
  },
  {
   "cell_type": "markdown",
   "metadata": {},
   "source": [
    "### Without regularization"
   ]
  },
  {
   "cell_type": "code",
   "execution_count": 50,
   "metadata": {},
   "outputs": [],
   "source": [
    "lr_noreg_path = '../models/results/lr_noreg/no_reg_rand_under_cb_no_fs_01_lr_results.pik'\n",
    "with open(lr_noreg_path, \"rb\") as f:\n",
    "    lr_noreg_results = dill.load(f)"
   ]
  },
  {
   "cell_type": "code",
   "execution_count": 51,
   "metadata": {},
   "outputs": [
    {
     "data": {
      "text/plain": [
       "{'loss': -0.2847386074608201,\n",
       " 'loss_cv': [0.2972928077667766,\n",
       "  0.35665211531766744,\n",
       "  0.2504588620002923,\n",
       "  0.273384368271169,\n",
       "  0.2459048839481951,\n",
       "  0.2972928077667766,\n",
       "  0.35665211531766744,\n",
       "  0.2504588620002923,\n",
       "  0.273384368271169,\n",
       "  0.2459048839481951],\n",
       " 'params': {'penalty': 'none', 'solver': 'lbfgs'},\n",
       " 'status': 'ok'}"
      ]
     },
     "execution_count": 51,
     "metadata": {},
     "output_type": "execute_result"
    }
   ],
   "source": [
    "lr_noreg_results['param_sorted'][0]"
   ]
  },
  {
   "cell_type": "markdown",
   "metadata": {},
   "source": [
    "## Random Forest"
   ]
  },
  {
   "cell_type": "code",
   "execution_count": 52,
   "metadata": {},
   "outputs": [],
   "source": [
    "rf_path = '../models/results/final_results/rf.pik'\n",
    "with open(rf_path, \"rb\") as f:\n",
    "    rf_results = dill.load(f)\n",
    "        "
   ]
  },
  {
   "cell_type": "code",
   "execution_count": 53,
   "metadata": {},
   "outputs": [],
   "source": [
    "rf_results_df = rf_results['results_df']"
   ]
  },
  {
   "cell_type": "code",
   "execution_count": 54,
   "metadata": {},
   "outputs": [
    {
     "data": {
      "text/plain": [
       "(72, 8)"
      ]
     },
     "execution_count": 54,
     "metadata": {},
     "output_type": "execute_result"
    }
   ],
   "source": [
    "rf_results_df.shape"
   ]
  },
  {
   "cell_type": "code",
   "execution_count": 55,
   "metadata": {},
   "outputs": [
    {
     "data": {
      "text/html": [
       "<div>\n",
       "<style scoped>\n",
       "    .dataframe tbody tr th:only-of-type {\n",
       "        vertical-align: middle;\n",
       "    }\n",
       "\n",
       "    .dataframe tbody tr th {\n",
       "        vertical-align: top;\n",
       "    }\n",
       "\n",
       "    .dataframe thead th {\n",
       "        text-align: right;\n",
       "    }\n",
       "</style>\n",
       "<table border=\"1\" class=\"dataframe\">\n",
       "  <thead>\n",
       "    <tr style=\"text-align: right;\">\n",
       "      <th></th>\n",
       "      <th>Algorithm</th>\n",
       "      <th>AUCPR_CV</th>\n",
       "      <th>AUCROC_CV</th>\n",
       "      <th>NPV_CV</th>\n",
       "      <th>Precision_CV</th>\n",
       "      <th>Sensitivity_CV</th>\n",
       "      <th>Specificity_CV</th>\n",
       "      <th>F1_CV</th>\n",
       "    </tr>\n",
       "  </thead>\n",
       "  <tbody>\n",
       "    <tr>\n",
       "      <th>20</th>\n",
       "      <td>tomek_cb_no_fs_01_rf</td>\n",
       "      <td>0.419991</td>\n",
       "      <td>0.846395</td>\n",
       "      <td>0.604879</td>\n",
       "      <td>0.896328</td>\n",
       "      <td>0.989888</td>\n",
       "      <td>0.109598</td>\n",
       "      <td>0.940770</td>\n",
       "    </tr>\n",
       "    <tr>\n",
       "      <th>30</th>\n",
       "      <td>no_cb_no_fs_01_rf</td>\n",
       "      <td>0.419183</td>\n",
       "      <td>0.845577</td>\n",
       "      <td>0.636283</td>\n",
       "      <td>0.890929</td>\n",
       "      <td>0.994659</td>\n",
       "      <td>0.053051</td>\n",
       "      <td>0.939926</td>\n",
       "    </tr>\n",
       "    <tr>\n",
       "      <th>71</th>\n",
       "      <td>tomek_cb_reliefF_fs_01_rf</td>\n",
       "      <td>0.418995</td>\n",
       "      <td>0.841151</td>\n",
       "      <td>0.587588</td>\n",
       "      <td>0.895401</td>\n",
       "      <td>0.989888</td>\n",
       "      <td>0.100764</td>\n",
       "      <td>0.940261</td>\n",
       "    </tr>\n",
       "    <tr>\n",
       "      <th>10</th>\n",
       "      <td>no_cb_reliefF_fs_01_rf</td>\n",
       "      <td>0.418485</td>\n",
       "      <td>0.846509</td>\n",
       "      <td>0.607751</td>\n",
       "      <td>0.891839</td>\n",
       "      <td>0.992841</td>\n",
       "      <td>0.063651</td>\n",
       "      <td>0.939617</td>\n",
       "    </tr>\n",
       "    <tr>\n",
       "      <th>35</th>\n",
       "      <td>class_weight_cb_reliefF_fs_01_rf</td>\n",
       "      <td>0.418248</td>\n",
       "      <td>0.843854</td>\n",
       "      <td>0.354029</td>\n",
       "      <td>0.949764</td>\n",
       "      <td>0.841171</td>\n",
       "      <td>0.651094</td>\n",
       "      <td>0.891462</td>\n",
       "    </tr>\n",
       "  </tbody>\n",
       "</table>\n",
       "</div>"
      ],
      "text/plain": [
       "                           Algorithm  AUCPR_CV  AUCROC_CV    NPV_CV  \\\n",
       "20              tomek_cb_no_fs_01_rf  0.419991   0.846395  0.604879   \n",
       "30                 no_cb_no_fs_01_rf  0.419183   0.845577  0.636283   \n",
       "71         tomek_cb_reliefF_fs_01_rf  0.418995   0.841151  0.587588   \n",
       "10            no_cb_reliefF_fs_01_rf  0.418485   0.846509  0.607751   \n",
       "35  class_weight_cb_reliefF_fs_01_rf  0.418248   0.843854  0.354029   \n",
       "\n",
       "    Precision_CV  Sensitivity_CV  Specificity_CV     F1_CV  \n",
       "20      0.896328        0.989888        0.109598  0.940770  \n",
       "30      0.890929        0.994659        0.053051  0.939926  \n",
       "71      0.895401        0.989888        0.100764  0.940261  \n",
       "10      0.891839        0.992841        0.063651  0.939617  \n",
       "35      0.949764        0.841171        0.651094  0.891462  "
      ]
     },
     "execution_count": 55,
     "metadata": {},
     "output_type": "execute_result"
    }
   ],
   "source": [
    "rf_results_df.head()"
   ]
  },
  {
   "cell_type": "code",
   "execution_count": 56,
   "metadata": {},
   "outputs": [
    {
     "data": {
      "text/plain": [
       "{'bootstrap': True,\n",
       " 'criterion': 'entropy',\n",
       " 'max_features': 0.2,\n",
       " 'min_samples_leaf': 6,\n",
       " 'n_estimators': 1067}"
      ]
     },
     "execution_count": 56,
     "metadata": {},
     "output_type": "execute_result"
    }
   ],
   "source": [
    "rf_results['results']['opt_param']"
   ]
  },
  {
   "cell_type": "code",
   "execution_count": 57,
   "metadata": {},
   "outputs": [
    {
     "name": "stdout",
     "output_type": "stream",
     "text": [
      "mean 648.0\n",
      "min 648\n",
      "max 648\n"
     ]
    }
   ],
   "source": [
    "count = []\n",
    "for i in range(len(rf_results['results']['cv_data'])):\n",
    "    count.append(len(rf_results['results']['cv_data'][i][4]))\n",
    "print('mean', np.mean(count))\n",
    "print('min',min(count))\n",
    "print('max',max(count))"
   ]
  },
  {
   "cell_type": "markdown",
   "metadata": {},
   "source": [
    "## XGBoost"
   ]
  },
  {
   "cell_type": "code",
   "execution_count": 58,
   "metadata": {},
   "outputs": [],
   "source": [
    "xgb_path = '../models/results/final_results/xgb.pik'\n",
    "with open(xgb_path, \"rb\") as f:\n",
    "    xgb_results = dill.load(f)\n",
    "        "
   ]
  },
  {
   "cell_type": "code",
   "execution_count": 59,
   "metadata": {},
   "outputs": [],
   "source": [
    "xgb_results_df = xgb_results['results_df']"
   ]
  },
  {
   "cell_type": "code",
   "execution_count": 60,
   "metadata": {},
   "outputs": [
    {
     "data": {
      "text/plain": [
       "(72, 8)"
      ]
     },
     "execution_count": 60,
     "metadata": {},
     "output_type": "execute_result"
    }
   ],
   "source": [
    "xgb_results_df.shape"
   ]
  },
  {
   "cell_type": "code",
   "execution_count": 61,
   "metadata": {},
   "outputs": [
    {
     "data": {
      "text/html": [
       "<div>\n",
       "<style scoped>\n",
       "    .dataframe tbody tr th:only-of-type {\n",
       "        vertical-align: middle;\n",
       "    }\n",
       "\n",
       "    .dataframe tbody tr th {\n",
       "        vertical-align: top;\n",
       "    }\n",
       "\n",
       "    .dataframe thead th {\n",
       "        text-align: right;\n",
       "    }\n",
       "</style>\n",
       "<table border=\"1\" class=\"dataframe\">\n",
       "  <thead>\n",
       "    <tr style=\"text-align: right;\">\n",
       "      <th></th>\n",
       "      <th>Algorithm</th>\n",
       "      <th>AUCPR_CV</th>\n",
       "      <th>AUCROC_CV</th>\n",
       "      <th>NPV_CV</th>\n",
       "      <th>Precision_CV</th>\n",
       "      <th>Sensitivity_CV</th>\n",
       "      <th>Specificity_CV</th>\n",
       "      <th>F1_CV</th>\n",
       "    </tr>\n",
       "  </thead>\n",
       "  <tbody>\n",
       "    <tr>\n",
       "      <th>30</th>\n",
       "      <td>class_weight_cb_no_fs_01_xgb</td>\n",
       "      <td>0.427211</td>\n",
       "      <td>0.848164</td>\n",
       "      <td>0.527661</td>\n",
       "      <td>0.903822</td>\n",
       "      <td>0.978072</td>\n",
       "      <td>0.190016</td>\n",
       "      <td>0.939435</td>\n",
       "    </tr>\n",
       "    <tr>\n",
       "      <th>2</th>\n",
       "      <td>tomek_cb_no_fs_01_xgb</td>\n",
       "      <td>0.427174</td>\n",
       "      <td>0.847557</td>\n",
       "      <td>0.527788</td>\n",
       "      <td>0.906227</td>\n",
       "      <td>0.975004</td>\n",
       "      <td>0.214736</td>\n",
       "      <td>0.939307</td>\n",
       "    </tr>\n",
       "    <tr>\n",
       "      <th>46</th>\n",
       "      <td>no_cb_no_fs_01_xgb</td>\n",
       "      <td>0.427145</td>\n",
       "      <td>0.847144</td>\n",
       "      <td>0.551084</td>\n",
       "      <td>0.904980</td>\n",
       "      <td>0.978526</td>\n",
       "      <td>0.200593</td>\n",
       "      <td>0.940280</td>\n",
       "    </tr>\n",
       "    <tr>\n",
       "      <th>53</th>\n",
       "      <td>tomek_cb_chi2_fs_01_xgb</td>\n",
       "      <td>0.426628</td>\n",
       "      <td>0.845993</td>\n",
       "      <td>0.564819</td>\n",
       "      <td>0.904195</td>\n",
       "      <td>0.979321</td>\n",
       "      <td>0.192624</td>\n",
       "      <td>0.940213</td>\n",
       "    </tr>\n",
       "    <tr>\n",
       "      <th>33</th>\n",
       "      <td>no_cb_reliefF_fs_01_xgb</td>\n",
       "      <td>0.426132</td>\n",
       "      <td>0.848998</td>\n",
       "      <td>0.560541</td>\n",
       "      <td>0.902166</td>\n",
       "      <td>0.982048</td>\n",
       "      <td>0.171436</td>\n",
       "      <td>0.940380</td>\n",
       "    </tr>\n",
       "  </tbody>\n",
       "</table>\n",
       "</div>"
      ],
      "text/plain": [
       "                       Algorithm  AUCPR_CV  AUCROC_CV    NPV_CV  Precision_CV  \\\n",
       "30  class_weight_cb_no_fs_01_xgb  0.427211   0.848164  0.527661      0.903822   \n",
       "2          tomek_cb_no_fs_01_xgb  0.427174   0.847557  0.527788      0.906227   \n",
       "46            no_cb_no_fs_01_xgb  0.427145   0.847144  0.551084      0.904980   \n",
       "53       tomek_cb_chi2_fs_01_xgb  0.426628   0.845993  0.564819      0.904195   \n",
       "33       no_cb_reliefF_fs_01_xgb  0.426132   0.848998  0.560541      0.902166   \n",
       "\n",
       "    Sensitivity_CV  Specificity_CV     F1_CV  \n",
       "30        0.978072        0.190016  0.939435  \n",
       "2         0.975004        0.214736  0.939307  \n",
       "46        0.978526        0.200593  0.940280  \n",
       "53        0.979321        0.192624  0.940213  \n",
       "33        0.982048        0.171436  0.940380  "
      ]
     },
     "execution_count": 61,
     "metadata": {},
     "output_type": "execute_result"
    }
   ],
   "source": [
    "xgb_results_df.head()"
   ]
  },
  {
   "cell_type": "code",
   "execution_count": 62,
   "metadata": {},
   "outputs": [
    {
     "data": {
      "text/plain": [
       "{'colsample_bytree': 0.10080281220639958,\n",
       " 'gamma': 0.33897251390707017,\n",
       " 'learning_rate': 0.49908411793649976,\n",
       " 'max_depth': 84,\n",
       " 'min_child_weight': 39.0,\n",
       " 'n_estimators': 652,\n",
       " 'reg_alpha': 10,\n",
       " 'reg_lambda': 100,\n",
       " 'scale_pos_weight': 1.0,\n",
       " 'subsample': 0.4924564464301474}"
      ]
     },
     "execution_count": 62,
     "metadata": {},
     "output_type": "execute_result"
    }
   ],
   "source": [
    "xgb_results['results']['opt_param']"
   ]
  },
  {
   "cell_type": "code",
   "execution_count": 63,
   "metadata": {},
   "outputs": [
    {
     "name": "stdout",
     "output_type": "stream",
     "text": [
      "mean 648.0\n",
      "min 648\n",
      "max 648\n"
     ]
    }
   ],
   "source": [
    "count = []\n",
    "for i in range(len(xgb_results['results']['cv_data'])):\n",
    "    count.append(len(xgb_results['results']['cv_data'][i][4]))\n",
    "print('mean', np.mean(count))\n",
    "print('min',min(count))\n",
    "print('max',max(count))"
   ]
  },
  {
   "cell_type": "markdown",
   "metadata": {},
   "source": [
    "## Plot AUC PR plots"
   ]
  },
  {
   "cell_type": "code",
   "execution_count": 64,
   "metadata": {},
   "outputs": [],
   "source": [
    "def median_idx_results(results):\n",
    "    cv_arr = results['results']['param_sorted'][0]['loss_cv']\n",
    "    idx = cv_arr.index(np.percentile(cv_arr,50,interpolation='nearest'))\n",
    "    y_prob = results['results']['cv_pred_prob'][idx]\n",
    "    y_test = results['results']['cv_data'][idx][3]\n",
    "    return idx, y_prob, y_test"
   ]
  },
  {
   "cell_type": "code",
   "execution_count": null,
   "metadata": {},
   "outputs": [],
   "source": []
  },
  {
   "cell_type": "code",
   "execution_count": 65,
   "metadata": {},
   "outputs": [
    {
     "data": {
      "image/png": "[encoded data removed]",
      "text/plain": [
       "<Figure size 720x576 with 1 Axes>"
      ]
     },
     "metadata": {
      "needs_background": "light"
     },
     "output_type": "display_data"
    }
   ],
   "source": [
    "LABEL_FONT_SIZE = 16\n",
    "TITLE_FONT_SIZE = 18\n",
    "LEGEND_FONT_SIZE = 16\n",
    "TICK_FONT_SIZE = 14\n",
    "MULTI_FIG_SIZE = (16, 14)\n",
    "SINGLE_FIG_SIZE = (10,8)\n",
    "MARKER_SIZE = 10\n",
    "\n",
    "fig, ax = plt.subplots(1, 1, figsize=SINGLE_FIG_SIZE)\n",
    "lw = 2\n",
    "\n",
    "x = np.linspace(0,1,100)\n",
    "\n",
    "#Random Classifier\n",
    "ax.plot(x,np.zeros(100)+(Counter(data['y'])[0]/(Counter(data['y'])[0]+Counter(data['y'])[1])),'--b', lw = lw, label='Random Classifier')\n",
    "\n",
    "#Naive Bayes\n",
    "idx, y_prob, y_test = median_idx_results(nb_results)\n",
    "\n",
    "test_y_flipped = abs(np.array(y_test)-1)\n",
    "\n",
    "precision1, recall1, threshold1 = precision_recall_curve(test_y_flipped, y_prob[:,0])\n",
    "threshold1 = 1-threshold1\n",
    "\n",
    "ax.plot(recall1, precision1, '#CCBE9F', lw = lw, label='Naive Bayes')\n",
    "\n",
    "nb_med_perf = nb_results['results']['param_sorted'][0]['loss_cv'][idx]\n",
    "\n",
    "#K Nearest Neighbors\n",
    "idx, y_prob, y_test = median_idx_results(knn_results)\n",
    "\n",
    "test_y_flipped = abs(np.array(y_test)-1)\n",
    "\n",
    "precision2, recall2, threshold2 = precision_recall_curve(test_y_flipped, y_prob[:,0])\n",
    "threshold2 = 1-threshold2\n",
    "\n",
    "ax.plot(recall2, precision2, '#A95AA1', lw = lw, label='KNN')\n",
    "\n",
    "knn_med_perf = knn_results['results']['param_sorted'][0]['loss_cv'][idx]\n",
    "\n",
    "#Logistic Regression\n",
    "idx, y_prob, y_test = median_idx_results(lr_results)\n",
    "\n",
    "test_y_flipped = abs(np.array(y_test)-1)\n",
    "\n",
    "precision3, recall3, threshold3 = precision_recall_curve(test_y_flipped, y_prob[:,0])\n",
    "threshold3 = 1-threshold3\n",
    "\n",
    "ax.plot(recall3, precision3, '#85C0F9', lw = lw, label='Logistic Regression')\n",
    "\n",
    "lr_med_perf = lr_results['results']['param_sorted'][0]['loss_cv'][idx]\n",
    "\n",
    "#Random Forest\n",
    "idx, y_prob, y_test = median_idx_results(rf_results)\n",
    "\n",
    "test_y_flipped = abs(np.array(y_test)-1)\n",
    "\n",
    "precision4, recall4, threshold4 = precision_recall_curve(test_y_flipped, y_prob[:,0])\n",
    "threshold4 = 1-threshold4\n",
    "\n",
    "ax.plot(recall4, precision4, '#F5793A', lw = lw, label='Random Forest')\n",
    "\n",
    "rf_med_perf = rf_results['results']['param_sorted'][0]['loss_cv'][idx]\n",
    "\n",
    "#XGBoost\n",
    "idx, y_prob, y_test = median_idx_results(xgb_results)\n",
    "\n",
    "test_y_flipped = abs(np.array(y_test)-1)\n",
    "\n",
    "precision5, recall5, threshold5 = precision_recall_curve(test_y_flipped, y_prob[:,0])\n",
    "threshold5 = 1-threshold5\n",
    "\n",
    "ax.plot(recall5, precision5, 'black', lw = lw, label='XGBoost')\n",
    "\n",
    "xgb_med_perf = xgb_results['results']['param_sorted'][0]['loss_cv'][idx]\n",
    "\n",
    "ax.set_xlim(0,1)\n",
    "ax.set_ylim(0,1)\n",
    "\n",
    "ax.set_xlabel('Specificity', fontsize=LABEL_FONT_SIZE)\n",
    "ax.set_ylabel('NPV', fontsize=LABEL_FONT_SIZE)\n",
    "set_tick_fontsize(ax, TICK_FONT_SIZE)\n",
    "ax.set_title('NPV-Specificity Curves', fontsize=TITLE_FONT_SIZE)\n",
    "ax.legend(loc=\"upper right\", fontsize=LEGEND_FONT_SIZE)\n",
    "ax.grid();\n"
   ]
  },
  {
   "cell_type": "code",
   "execution_count": 66,
   "metadata": {},
   "outputs": [],
   "source": [
    "img_out_path = '../reports/figures/'\n",
    "fig.savefig(img_out_path+'npv_specificity_cb.pdf', dpi=300, bbox_inches='tight', pad_inches=.15)"
   ]
  },
  {
   "cell_type": "code",
   "execution_count": 67,
   "metadata": {},
   "outputs": [
    {
     "name": "stdout",
     "output_type": "stream",
     "text": [
      "nb 0.27554993787460497\n",
      "knn 0.4128259490000769\n",
      "lr 0.42465210483513366\n",
      "rf 0.4403034188335825\n",
      "xgb 0.430101677061313\n"
     ]
    }
   ],
   "source": [
    "#Median metrics\n",
    "print('nb',nb_med_perf)\n",
    "print('knn',knn_med_perf)\n",
    "print('lr',lr_med_perf)\n",
    "print('rf',rf_med_perf)\n",
    "print('xgb',xgb_med_perf)"
   ]
  },
  {
   "cell_type": "code",
   "execution_count": 68,
   "metadata": {},
   "outputs": [
    {
     "name": "stdout",
     "output_type": "stream",
     "text": [
      "(0.29, 0.25, 0.33)\n",
      "(0.4, 0.32, 0.43)\n",
      "(0.42, 0.35, 0.45)\n",
      "(0.42, 0.34, 0.45)\n",
      "(0.43, 0.38, 0.45)\n"
     ]
    }
   ],
   "source": [
    "def print_mean_range(results):\n",
    "    cv_arr = results['results']['param_sorted'][0]['loss_cv']\n",
    "    avg = np.round(np.mean(cv_arr),2)\n",
    "    low = np.round(min(cv_arr),2)\n",
    "    high = np.round(max(cv_arr),2)\n",
    "    return avg,low,high\n",
    "\n",
    "print(print_mean_range(nb_results))\n",
    "print(print_mean_range(knn_results))\n",
    "print(print_mean_range(lr_results))\n",
    "print(print_mean_range(rf_results))\n",
    "print(print_mean_range(xgb_results))"
   ]
  },
  {
   "cell_type": "markdown",
   "metadata": {},
   "source": [
    "## Cnf Matrix Results"
   ]
  },
  {
   "cell_type": "code",
   "execution_count": 69,
   "metadata": {},
   "outputs": [],
   "source": [
    "alg_arr = ['nb','knn','lr','rf','xgb']\n"
   ]
  },
  {
   "cell_type": "code",
   "execution_count": 70,
   "metadata": {},
   "outputs": [],
   "source": [
    "def print_cnf_results(results_df):\n",
    "    npv_arr = []\n",
    "    prec_arr = []\n",
    "    recall_arr = []\n",
    "    acc_arr = []\n",
    "\n",
    "    for fold in range(len(results_df['results']['cv_pred_prob'])):\n",
    "        y_prob = results_df['results']['cv_pred_prob'][fold]\n",
    "        y_test = results_df['results']['cv_data'][fold][3]\n",
    "        test_y_flipped = abs(np.array(y_test)-1)\n",
    "\n",
    "        _, recall, threshold = precision_recall_curve(test_y_flipped, y_prob[:,0])\n",
    "        threshold = 1-threshold\n",
    "\n",
    "        spec_cutoff_id = np.where(np.array(recall)>=0.7)[0][-1]\n",
    "        threshold = threshold[spec_cutoff_id]\n",
    "\n",
    "        y_pred = np.array([int(j>=threshold) for j in y_prob[:,1]])\n",
    "\n",
    "        tn, fp, fn, tp = confusion_matrix(y_test, y_pred).ravel()\n",
    "\n",
    "        npv = np.round(tn/(tn+fn),2)\n",
    "        npv_arr.append(npv)\n",
    "\n",
    "        precision = np.round(tp/(tp+fp),2)\n",
    "        prec_arr.append(precision)\n",
    "\n",
    "\n",
    "        recall = np.round(tp/(tp+fn),2)\n",
    "        recall_arr.append(recall)\n",
    "\n",
    "        accuracy = np.round((tp+tn)/(tp+tn+fp+fn),2)\n",
    "        acc_arr.append(accuracy)\n",
    "\n",
    "    print(np.round(np.mean(npv_arr),2),np.min(npv_arr),np.max(npv_arr))\n",
    "    print(np.round(np.mean(prec_arr),2),np.min(prec_arr),np.max(prec_arr))\n",
    "    print(np.round(np.mean(recall_arr),2),np.min(recall_arr),np.max(recall_arr))\n",
    "    print(np.round(np.mean(acc_arr),2),np.min(acc_arr),np.max(acc_arr))\n"
   ]
  },
  {
   "cell_type": "code",
   "execution_count": 71,
   "metadata": {},
   "outputs": [
    {
     "name": "stdout",
     "output_type": "stream",
     "text": [
      "0.25 0.22 0.29\n",
      "0.95 0.95 0.95\n",
      "0.72 0.69 0.78\n",
      "0.72 0.69 0.77\n"
     ]
    }
   ],
   "source": [
    "print_cnf_results(nb_results)"
   ]
  },
  {
   "cell_type": "code",
   "execution_count": 72,
   "metadata": {},
   "outputs": [
    {
     "name": "stdout",
     "output_type": "stream",
     "text": [
      "0.29 0.26 0.32\n",
      "0.95 0.95 0.95\n",
      "0.78 0.74 0.81\n",
      "0.77 0.74 0.8\n"
     ]
    }
   ],
   "source": [
    "print_cnf_results(knn_results)"
   ]
  },
  {
   "cell_type": "code",
   "execution_count": 73,
   "metadata": {},
   "outputs": [
    {
     "name": "stdout",
     "output_type": "stream",
     "text": [
      "0.32 0.31 0.33\n",
      "0.95 0.95 0.96\n",
      "0.81 0.8 0.81\n",
      "0.8 0.78 0.8\n"
     ]
    }
   ],
   "source": [
    "print_cnf_results(lr_results)"
   ]
  },
  {
   "cell_type": "code",
   "execution_count": 74,
   "metadata": {},
   "outputs": [
    {
     "name": "stdout",
     "output_type": "stream",
     "text": [
      "0.33 0.3 0.35\n",
      "0.95 0.95 0.96\n",
      "0.82 0.79 0.83\n",
      "0.81 0.78 0.82\n"
     ]
    }
   ],
   "source": [
    "print_cnf_results(rf_results)"
   ]
  },
  {
   "cell_type": "code",
   "execution_count": 75,
   "metadata": {},
   "outputs": [
    {
     "name": "stdout",
     "output_type": "stream",
     "text": [
      "0.34 0.32 0.35\n",
      "0.95 0.95 0.96\n",
      "0.82 0.81 0.83\n",
      "0.81 0.8 0.82\n"
     ]
    }
   ],
   "source": [
    "print_cnf_results(xgb_results)"
   ]
  },
  {
   "cell_type": "code",
   "execution_count": null,
   "metadata": {},
   "outputs": [],
   "source": []
  },
  {
   "cell_type": "code",
   "execution_count": 76,
   "metadata": {},
   "outputs": [],
   "source": [
    "alg_arr = ['nb','knn','lr','rf','xgb']\n",
    "\n",
    "spec_arr = []\n",
    "spec_arr.append((list(recall1),list(recall2),list(recall3),list(recall4),list(recall5)))\n",
    "spec_arr = np.asarray(spec_arr[0])\n",
    "\n",
    "thresh_arr = []\n",
    "thresh_arr.append((list(threshold1),list(threshold2),list(threshold3),list(threshold4),list(threshold5)))\n",
    "thresh_arr = np.asarray(thresh_arr[0])\n",
    "\n",
    "y_test = []\n",
    "pred_prob_arr = []\n",
    "\n",
    "_, y_prob_1, yt1 = median_idx_results(nb_results)\n",
    "y_test.append(yt1)\n",
    "pred_prob_arr.append(y_prob_1[:,1])\n",
    "\n",
    "_, y_prob_2, yt2 = median_idx_results(knn_results)\n",
    "y_test.append(yt2)\n",
    "pred_prob_arr.append(y_prob_2[:,1])\n",
    "\n",
    "_, y_prob_3, yt3 = median_idx_results(lr_results)\n",
    "y_test.append(yt3)\n",
    "pred_prob_arr.append(y_prob_3[:,1])\n",
    "\n",
    "_, y_prob_4, yt4 = median_idx_results(rf_results)\n",
    "y_test.append(yt4)\n",
    "pred_prob_arr.append(y_prob_4[:,1])\n",
    "\n",
    "_, y_prob_5, yt5 = median_idx_results(xgb_results)\n",
    "y_test.append(yt5)\n",
    "pred_prob_arr.append(y_prob_5[:,1])\n",
    "\n",
    "\n",
    "npv_arr = []\n",
    "prec_arr = []\n",
    "sens_arr = []\n",
    "recall_arr = []\n",
    "acc_arr = []\n",
    "for i in range(len(alg_arr)):\n",
    "    spec_cutoff_id = np.where(np.array(spec_arr[i])>=0.7)[0][-1]\n",
    "    threshold = thresh_arr[i][spec_cutoff_id]\n",
    "    y_prob = pred_prob_arr[i]\n",
    "    y_pred = np.array([int(j>=threshold) for j in y_prob])\n",
    "    tn, fp, fn, tp = confusion_matrix(y_test[i], y_pred).ravel()\n",
    "    \n",
    "    npv = np.round(tn/(tn+fn),2)\n",
    "    npv_arr.append(npv)\n",
    "    \n",
    "    precision = np.round(tp/(tp+fp),2)\n",
    "    prec_arr.append(precision)\n",
    "    \n",
    "  \n",
    "    recall = np.round(tp/(tp+fn),2)\n",
    "    recall_arr.append(recall)\n",
    "    \n",
    "    accuracy = np.round((tp+tn)/(tp+tn+fp+fn),2)\n",
    "    acc_arr.append(accuracy)\n",
    "    \n",
    "    \n",
    "    \n"
   ]
  },
  {
   "cell_type": "code",
   "execution_count": 77,
   "metadata": {},
   "outputs": [],
   "source": [
    "cnf_results = list(zip(alg_arr,npv_arr,prec_arr,recall_arr,acc_arr))"
   ]
  },
  {
   "cell_type": "code",
   "execution_count": 78,
   "metadata": {},
   "outputs": [],
   "source": [
    "cnf_results_df = pd.DataFrame(cnf_results,columns=['alg','npv','prec','recall','acc'])"
   ]
  },
  {
   "cell_type": "code",
   "execution_count": 79,
   "metadata": {},
   "outputs": [
    {
     "data": {
      "text/html": [
       "<div>\n",
       "<style scoped>\n",
       "    .dataframe tbody tr th:only-of-type {\n",
       "        vertical-align: middle;\n",
       "    }\n",
       "\n",
       "    .dataframe tbody tr th {\n",
       "        vertical-align: top;\n",
       "    }\n",
       "\n",
       "    .dataframe thead th {\n",
       "        text-align: right;\n",
       "    }\n",
       "</style>\n",
       "<table border=\"1\" class=\"dataframe\">\n",
       "  <thead>\n",
       "    <tr style=\"text-align: right;\">\n",
       "      <th></th>\n",
       "      <th>alg</th>\n",
       "      <th>npv</th>\n",
       "      <th>prec</th>\n",
       "      <th>recall</th>\n",
       "      <th>acc</th>\n",
       "    </tr>\n",
       "  </thead>\n",
       "  <tbody>\n",
       "    <tr>\n",
       "      <th>0</th>\n",
       "      <td>nb</td>\n",
       "      <td>0.23</td>\n",
       "      <td>0.95</td>\n",
       "      <td>0.70</td>\n",
       "      <td>0.70</td>\n",
       "    </tr>\n",
       "    <tr>\n",
       "      <th>1</th>\n",
       "      <td>knn</td>\n",
       "      <td>0.27</td>\n",
       "      <td>0.95</td>\n",
       "      <td>0.75</td>\n",
       "      <td>0.75</td>\n",
       "    </tr>\n",
       "    <tr>\n",
       "      <th>2</th>\n",
       "      <td>lr</td>\n",
       "      <td>0.33</td>\n",
       "      <td>0.95</td>\n",
       "      <td>0.81</td>\n",
       "      <td>0.80</td>\n",
       "    </tr>\n",
       "    <tr>\n",
       "      <th>3</th>\n",
       "      <td>rf</td>\n",
       "      <td>0.34</td>\n",
       "      <td>0.95</td>\n",
       "      <td>0.83</td>\n",
       "      <td>0.81</td>\n",
       "    </tr>\n",
       "    <tr>\n",
       "      <th>4</th>\n",
       "      <td>xgb</td>\n",
       "      <td>0.33</td>\n",
       "      <td>0.95</td>\n",
       "      <td>0.82</td>\n",
       "      <td>0.81</td>\n",
       "    </tr>\n",
       "  </tbody>\n",
       "</table>\n",
       "</div>"
      ],
      "text/plain": [
       "   alg   npv  prec  recall   acc\n",
       "0   nb  0.23  0.95    0.70  0.70\n",
       "1  knn  0.27  0.95    0.75  0.75\n",
       "2   lr  0.33  0.95    0.81  0.80\n",
       "3   rf  0.34  0.95    0.83  0.81\n",
       "4  xgb  0.33  0.95    0.82  0.81"
      ]
     },
     "execution_count": 79,
     "metadata": {},
     "output_type": "execute_result"
    }
   ],
   "source": [
    "cnf_results_df"
   ]
  },
  {
   "cell_type": "code",
   "execution_count": null,
   "metadata": {},
   "outputs": [],
   "source": []
  },
  {
   "cell_type": "markdown",
   "metadata": {},
   "source": [
    "## ROC Curve"
   ]
  },
  {
   "cell_type": "code",
   "execution_count": 81,
   "metadata": {},
   "outputs": [
    {
     "data": {
      "image/png": "[encoded data removed]",
      "text/plain": [
       "<Figure size 720x576 with 1 Axes>"
      ]
     },
     "metadata": {
      "needs_background": "light"
     },
     "output_type": "display_data"
    }
   ],
   "source": [
    "LABEL_FONT_SIZE = 16\n",
    "TITLE_FONT_SIZE = 18\n",
    "LEGEND_FONT_SIZE = 16\n",
    "TICK_FONT_SIZE = 14\n",
    "MULTI_FIG_SIZE = (16, 14)\n",
    "SINGLE_FIG_SIZE = (10,8)\n",
    "MARKER_SIZE = 10\n",
    "\n",
    "fig, ax = plt.subplots(1, 1, figsize=SINGLE_FIG_SIZE)\n",
    "lw = 2\n",
    "\n",
    "x = np.linspace(0,1,100)\n",
    "\n",
    "#Random Classifier\n",
    "ax.plot(x,x,'--b', lw= lw, label='Random Classifier (AUC=0.50)')\n",
    "\n",
    "#Naive Bayes\n",
    "idx, y_prob, y_test = median_idx_results(nb_results)\n",
    "\n",
    "fpr1, tpr1, threshold1 = roc_curve(y_test, y_prob[:,1])\n",
    "roc_auc = roc_auc_score(y_test, y_prob[:,1])\n",
    "\n",
    "ax.plot(fpr1, tpr1, '#CCBE9F', lw= lw, label='Naive Bayes (AUC={})'.format(np.round(roc_auc,2)))\n",
    "\n",
    "#K Nearest Neighbors\n",
    "idx, y_prob, y_test = median_idx_results(knn_results)\n",
    "\n",
    "fpr2, tpr2, threshold2 = roc_curve(y_test, y_prob[:,1])\n",
    "roc_auc = roc_auc_score(y_test, y_prob[:,1])\n",
    "\n",
    "ax.plot(fpr2, tpr2, '#A95AA1', lw= lw, label='KNN (AUC={})'.format(np.round(roc_auc,2)))\n",
    "\n",
    "#Logistic Regression\n",
    "idx, y_prob, y_test = median_idx_results(lr_results)\n",
    "\n",
    "fpr3, tpr3, threshold3 = roc_curve(y_test, y_prob[:,1])\n",
    "roc_auc = roc_auc_score(y_test, y_prob[:,1])\n",
    "\n",
    "ax.plot(fpr3, tpr3, '#85C0F9', lw= lw, label='Logistic Regression (AUC={})'.format(np.round(roc_auc,2)))\n",
    "\n",
    "\n",
    "#Random Forest\n",
    "idx, y_prob, y_test = median_idx_results(rf_results)\n",
    "\n",
    "fpr4, tpr4, threshold4 = roc_curve(y_test, y_prob[:,1])\n",
    "roc_auc = roc_auc_score(y_test, y_prob[:,1])\n",
    "\n",
    "ax.plot(fpr4, tpr4, '#F5793A', lw= lw, label='Random Forest (AUC={})'.format(np.round(roc_auc,2)))\n",
    "\n",
    "#XGBoost\n",
    "idx, y_prob, y_test = median_idx_results(xgb_results)\n",
    "\n",
    "fpr5, tpr5, threshold5 = roc_curve(y_test, y_prob[:,1])\n",
    "roc_auc = roc_auc_score(y_test, y_prob[:,1])\n",
    "\n",
    "ax.plot(fpr5, tpr5, 'black', lw= lw, label='XGBoost (AUC={})'.format(np.round(roc_auc,2)))\n",
    "\n",
    "ax.set_xlim(0,1)\n",
    "ax.set_ylim(0,1)\n",
    "\n",
    "ax.set_xlabel('False Positive Rate', fontsize=LABEL_FONT_SIZE)\n",
    "ax.set_ylabel('True Positive Rate', fontsize=LABEL_FONT_SIZE)\n",
    "set_tick_fontsize(ax, TICK_FONT_SIZE)\n",
    "ax.set_title('ROC Curves', fontsize=TITLE_FONT_SIZE)\n",
    "ax.legend(loc=\"lower right\", fontsize=LEGEND_FONT_SIZE)\n",
    "ax.grid();"
   ]
  },
  {
   "cell_type": "code",
   "execution_count": 82,
   "metadata": {},
   "outputs": [],
   "source": [
    "img_out_path = '../reports/figures/'\n",
    "fig.savefig(img_out_path+'roc_cb.pdf', dpi=300, bbox_inches='tight', pad_inches=.15)"
   ]
  },
  {
   "cell_type": "code",
   "execution_count": 315,
   "metadata": {},
   "outputs": [],
   "source": []
  },
  {
   "cell_type": "markdown",
   "metadata": {},
   "source": [
    "## Hyperopt Convergence"
   ]
  },
  {
   "cell_type": "code",
   "execution_count": 83,
   "metadata": {},
   "outputs": [
    {
     "data": {
      "image/png": "[encoded data removed]",
      "text/plain": [
       "<Figure size 720x576 with 1 Axes>"
      ]
     },
     "metadata": {
      "needs_background": "light"
     },
     "output_type": "display_data"
    }
   ],
   "source": [
    "LABEL_FONT_SIZE = 16\n",
    "TITLE_FONT_SIZE = 18\n",
    "LEGEND_FONT_SIZE = 16\n",
    "TICK_FONT_SIZE = 14\n",
    "MULTI_FIG_SIZE = (16, 14)\n",
    "SINGLE_FIG_SIZE = (10,8)\n",
    "MARKER_SIZE = 10\n",
    "\n",
    "fig, ax = plt.subplots(1, 1, figsize=SINGLE_FIG_SIZE)\n",
    "lw = 2\n",
    "\n",
    "#Naive Bayes\n",
    "res_df = [{'tid':i['tid'],'loss':-i['result']['loss']} for i in nb_results['results']['trials']]\n",
    "res_df = pd.DataFrame(res_df)\n",
    "\n",
    "best_loss_1 = np.maximum.accumulate(res_df.sort_values(\"tid\")[\"loss\"])\n",
    "ax.plot(best_loss_1.values[:500], '#CCBE9F', lw=lw, label='Naive Bayes')\n",
    "\n",
    "\n",
    "#K Nearest Neighbors\n",
    "res_df = [{'tid':i['tid'],'loss':-i['result']['loss']} for i in knn_results['results']['trials']]\n",
    "res_df = pd.DataFrame(res_df)\n",
    "\n",
    "best_loss_2 = np.maximum.accumulate(res_df.sort_values(\"tid\")[\"loss\"])\n",
    "ax.plot(best_loss_2[:500], '#A95AA1', lw=lw,label='KNN')\n",
    "\n",
    "#Logistic Regression\n",
    "res_df = [{'tid':i['tid'],'loss':-i['result']['loss']} for i in lr_results['results']['trials']]\n",
    "res_df = pd.DataFrame(res_df)\n",
    "\n",
    "best_loss_3 = np.maximum.accumulate(res_df.sort_values(\"tid\")[\"loss\"])\n",
    "ax.plot(best_loss_3[:500], '#85C0F9', lw=lw,label='Logistic Regression')\n",
    "\n",
    "\n",
    "#Random Forest\n",
    "res_df = [{'tid':i['tid'],'loss':-i['result']['loss']} for i in rf_results['results']['trials']]\n",
    "res_df = pd.DataFrame(res_df)\n",
    "\n",
    "best_loss_4 = np.maximum.accumulate(res_df.sort_values(\"tid\")[\"loss\"])\n",
    "ax.plot(best_loss_4[:500], '#F5793A',lw=lw, label='Random Forest')\n",
    "\n",
    "#XGBoost\n",
    "res_df = [{'tid':i['tid'],'loss':-i['result']['loss']} for i in xgb_results['results']['trials']]\n",
    "res_df = pd.DataFrame(res_df)\n",
    "\n",
    "best_loss_5 = np.maximum.accumulate(res_df.sort_values(\"tid\")[\"loss\"])\n",
    "ax.plot(best_loss_5[:500], 'black',lw=lw, label='XGBoost')\n",
    "\n",
    "#ax.set_xlim(0,1)\n",
    "#ax.set_ylim(0,1)\n",
    "ax.set_xlabel('Iteration', fontsize=LABEL_FONT_SIZE)\n",
    "ax.set_ylabel('Best Cross-Validation Metric', fontsize=LABEL_FONT_SIZE)\n",
    "set_tick_fontsize(ax, TICK_FONT_SIZE)\n",
    "ax.set_title('Hyperopt Convergence Plot', fontsize=TITLE_FONT_SIZE)\n",
    "ax.legend(loc=\"lower right\", fontsize=LEGEND_FONT_SIZE)\n",
    "ax.grid()\n",
    "# ax.set(xlabel=\"Iteration\",ylabel=\"Best validation Average Precision\")\n",
    "# ax.legend();\n",
    "\n"
   ]
  },
  {
   "cell_type": "code",
   "execution_count": 84,
   "metadata": {},
   "outputs": [],
   "source": [
    "img_out_path = '../reports/figures/'\n",
    "fig.savefig(img_out_path+'hyperopt_convergence_cb.pdf', dpi=300, bbox_inches='tight', pad_inches=.15)"
   ]
  },
  {
   "cell_type": "code",
   "execution_count": null,
   "metadata": {},
   "outputs": [],
   "source": []
  },
  {
   "cell_type": "markdown",
   "metadata": {},
   "source": [
    "## Permutation Analysis"
   ]
  },
  {
   "cell_type": "code",
   "execution_count": 2,
   "metadata": {},
   "outputs": [],
   "source": [
    "params_xgb = {'colsample_bytree': 0.10080281220639958,\n",
    " 'gamma': 0.33897251390707017,\n",
    " 'learning_rate': 0.49908411793649976,\n",
    " 'max_depth': 84,\n",
    " 'min_child_weight': 39.0,\n",
    " 'n_estimators': 652,\n",
    " 'reg_alpha': 10,\n",
    " 'reg_lambda': 100,\n",
    " 'scale_pos_weight': 1.0,\n",
    " 'subsample': 0.4924564464301474}\n",
    "clf_xgb = XGBClassifier(**params_xgb, n_jobs=-1, random_state = 0)"
   ]
  },
  {
   "cell_type": "code",
   "execution_count": null,
   "metadata": {},
   "outputs": [],
   "source": []
  },
  {
   "cell_type": "code",
   "execution_count": 17,
   "metadata": {},
   "outputs": [],
   "source": [
    "#Permutation on test data of the median performance split\n",
    "\n",
    "idx, _,_ = median_idx_results(xgb_results)\n",
    "\n",
    "X_train = xgb_results['results']['cv_data'][idx][0]\n",
    "y_train = xgb_results['results']['cv_data'][idx][1]\n",
    "X_test = xgb_results['results']['cv_data'][idx][2]\n",
    "y_test = xgb_results['results']['cv_data'][idx][3]\n",
    "\n",
    "cont_idx = []\n",
    "for i in range(X_train.shape[1]):\n",
    "    if len(set(X_train[:,i])) >2:\n",
    "        cont_idx.append(i)\n",
    "\n",
    "scaler = StandardScaler()\n",
    "X_train[:,cont_idx] = scaler.fit_transform(X_train[:,cont_idx])\n",
    "X_test[:,cont_idx] = scaler.transform(X_test[:,cont_idx])\n",
    "X_df = data['X_df']"
   ]
  },
  {
   "cell_type": "code",
   "execution_count": 90,
   "metadata": {},
   "outputs": [
    {
     "data": {
      "text/html": [
       "\n",
       "    <style>\n",
       "    table.eli5-weights tr:hover {\n",
       "        filter: brightness(85%);\n",
       "    }\n",
       "</style>\n",
       "\n",
       "\n",
       "\n",
       "    \n",
       "\n",
       "    \n",
       "\n",
       "    \n",
       "\n",
       "    \n",
       "\n",
       "    \n",
       "\n",
       "    \n",
       "\n",
       "\n",
       "    \n",
       "\n",
       "    \n",
       "\n",
       "    \n",
       "\n",
       "    \n",
       "\n",
       "    \n",
       "\n",
       "    \n",
       "\n",
       "\n",
       "    \n",
       "\n",
       "    \n",
       "\n",
       "    \n",
       "\n",
       "    \n",
       "\n",
       "    \n",
       "        <table class=\"eli5-weights eli5-feature-importances\" style=\"border-collapse: collapse; border: none; margin-top: 0em; table-layout: auto;\">\n",
       "    <thead>\n",
       "    <tr style=\"border: none;\">\n",
       "        <th style=\"padding: 0 1em 0 0.5em; text-align: right; border: none;\">Weight</th>\n",
       "        <th style=\"padding: 0 0.5em 0 0.5em; text-align: left; border: none;\">Feature</th>\n",
       "    </tr>\n",
       "    </thead>\n",
       "    <tbody>\n",
       "    \n",
       "        <tr style=\"background-color: hsl(120, 100.00%, 80.00%); border: none;\">\n",
       "            <td style=\"padding: 0 1em 0 0.5em; text-align: right; border: none;\">\n",
       "                0.1355\n",
       "                \n",
       "                    &plusmn; 0.0262\n",
       "                \n",
       "            </td>\n",
       "            <td style=\"padding: 0 0.5em 0 0.5em; text-align: left; border: none;\">\n",
       "                age_last_asthma\n",
       "            </td>\n",
       "        </tr>\n",
       "    \n",
       "        <tr style=\"background-color: hsl(120, 100.00%, 84.44%); border: none;\">\n",
       "            <td style=\"padding: 0 1em 0 0.5em; text-align: right; border: none;\">\n",
       "                0.0947\n",
       "                \n",
       "                    &plusmn; 0.0406\n",
       "                \n",
       "            </td>\n",
       "            <td style=\"padding: 0 0.5em 0 0.5em; text-align: left; border: none;\">\n",
       "                num_asthma_visits\n",
       "            </td>\n",
       "        </tr>\n",
       "    \n",
       "        <tr style=\"background-color: hsl(120, 100.00%, 92.01%); border: none;\">\n",
       "            <td style=\"padding: 0 1em 0 0.5em; text-align: right; border: none;\">\n",
       "                0.0366\n",
       "                \n",
       "                    &plusmn; 0.0126\n",
       "                \n",
       "            </td>\n",
       "            <td style=\"padding: 0 0.5em 0 0.5em; text-align: left; border: none;\">\n",
       "                proc_2314047\n",
       "            </td>\n",
       "        </tr>\n",
       "    \n",
       "        <tr style=\"background-color: hsl(120, 100.00%, 93.75%); border: none;\">\n",
       "            <td style=\"padding: 0 1em 0 0.5em; text-align: right; border: none;\">\n",
       "                0.0257\n",
       "                \n",
       "                    &plusmn; 0.0220\n",
       "                \n",
       "            </td>\n",
       "            <td style=\"padding: 0 0.5em 0 0.5em; text-align: left; border: none;\">\n",
       "                num_non_asthma_visits\n",
       "            </td>\n",
       "        </tr>\n",
       "    \n",
       "        <tr style=\"background-color: hsl(120, 100.00%, 95.31%); border: none;\">\n",
       "            <td style=\"padding: 0 1em 0 0.5em; text-align: right; border: none;\">\n",
       "                0.0171\n",
       "                \n",
       "                    &plusmn; 0.0128\n",
       "                \n",
       "            </td>\n",
       "            <td style=\"padding: 0 0.5em 0 0.5em; text-align: left; border: none;\">\n",
       "                meas_3028406\n",
       "            </td>\n",
       "        </tr>\n",
       "    \n",
       "        <tr style=\"background-color: hsl(120, 100.00%, 95.98%); border: none;\">\n",
       "            <td style=\"padding: 0 1em 0 0.5em; text-align: right; border: none;\">\n",
       "                0.0137\n",
       "                \n",
       "                    &plusmn; 0.0087\n",
       "                \n",
       "            </td>\n",
       "            <td style=\"padding: 0 0.5em 0 0.5em; text-align: left; border: none;\">\n",
       "                race_Black or African American\n",
       "            </td>\n",
       "        </tr>\n",
       "    \n",
       "        <tr style=\"background-color: hsl(120, 100.00%, 96.87%); border: none;\">\n",
       "            <td style=\"padding: 0 1em 0 0.5em; text-align: right; border: none;\">\n",
       "                0.0096\n",
       "                \n",
       "                    &plusmn; 0.0052\n",
       "                \n",
       "            </td>\n",
       "            <td style=\"padding: 0 0.5em 0 0.5em; text-align: left; border: none;\">\n",
       "                age_first_asthma\n",
       "            </td>\n",
       "        </tr>\n",
       "    \n",
       "        <tr style=\"background-color: hsl(120, 100.00%, 96.94%); border: none;\">\n",
       "            <td style=\"padding: 0 1em 0 0.5em; text-align: right; border: none;\">\n",
       "                0.0093\n",
       "                \n",
       "                    &plusmn; 0.0046\n",
       "                \n",
       "            </td>\n",
       "            <td style=\"padding: 0 0.5em 0 0.5em; text-align: left; border: none;\">\n",
       "                race_White\n",
       "            </td>\n",
       "        </tr>\n",
       "    \n",
       "        <tr style=\"background-color: hsl(120, 100.00%, 97.46%); border: none;\">\n",
       "            <td style=\"padding: 0 1em 0 0.5em; text-align: right; border: none;\">\n",
       "                0.0071\n",
       "                \n",
       "                    &plusmn; 0.0026\n",
       "                \n",
       "            </td>\n",
       "            <td style=\"padding: 0 0.5em 0 0.5em; text-align: left; border: none;\">\n",
       "                drug_21603497\n",
       "            </td>\n",
       "        </tr>\n",
       "    \n",
       "        <tr style=\"background-color: hsl(120, 100.00%, 97.66%); border: none;\">\n",
       "            <td style=\"padding: 0 1em 0 0.5em; text-align: right; border: none;\">\n",
       "                0.0063\n",
       "                \n",
       "                    &plusmn; 0.0060\n",
       "                \n",
       "            </td>\n",
       "            <td style=\"padding: 0 0.5em 0 0.5em; text-align: left; border: none;\">\n",
       "                edc_ALL03\n",
       "            </td>\n",
       "        </tr>\n",
       "    \n",
       "        <tr style=\"background-color: hsl(120, 100.00%, 97.83%); border: none;\">\n",
       "            <td style=\"padding: 0 1em 0 0.5em; text-align: right; border: none;\">\n",
       "                0.0057\n",
       "                \n",
       "                    &plusmn; 0.0060\n",
       "                \n",
       "            </td>\n",
       "            <td style=\"padding: 0 0.5em 0 0.5em; text-align: left; border: none;\">\n",
       "                drug_21603356\n",
       "            </td>\n",
       "        </tr>\n",
       "    \n",
       "        <tr style=\"background-color: hsl(120, 100.00%, 97.92%); border: none;\">\n",
       "            <td style=\"padding: 0 1em 0 0.5em; text-align: right; border: none;\">\n",
       "                0.0053\n",
       "                \n",
       "                    &plusmn; 0.0033\n",
       "                \n",
       "            </td>\n",
       "            <td style=\"padding: 0 0.5em 0 0.5em; text-align: left; border: none;\">\n",
       "                drug_21604344\n",
       "            </td>\n",
       "        </tr>\n",
       "    \n",
       "        <tr style=\"background-color: hsl(120, 100.00%, 98.57%); border: none;\">\n",
       "            <td style=\"padding: 0 1em 0 0.5em; text-align: right; border: none;\">\n",
       "                0.0031\n",
       "                \n",
       "                    &plusmn; 0.0010\n",
       "                \n",
       "            </td>\n",
       "            <td style=\"padding: 0 0.5em 0 0.5em; text-align: left; border: none;\">\n",
       "                proc_2514424\n",
       "            </td>\n",
       "        </tr>\n",
       "    \n",
       "        <tr style=\"background-color: hsl(120, 100.00%, 98.82%); border: none;\">\n",
       "            <td style=\"padding: 0 1em 0 0.5em; text-align: right; border: none;\">\n",
       "                0.0024\n",
       "                \n",
       "                    &plusmn; 0.0007\n",
       "                \n",
       "            </td>\n",
       "            <td style=\"padding: 0 0.5em 0 0.5em; text-align: left; border: none;\">\n",
       "                edc_GSU09\n",
       "            </td>\n",
       "        </tr>\n",
       "    \n",
       "        <tr style=\"background-color: hsl(120, 100.00%, 98.88%); border: none;\">\n",
       "            <td style=\"padding: 0 1em 0 0.5em; text-align: right; border: none;\">\n",
       "                0.0022\n",
       "                \n",
       "                    &plusmn; 0.0037\n",
       "                \n",
       "            </td>\n",
       "            <td style=\"padding: 0 0.5em 0 0.5em; text-align: left; border: none;\">\n",
       "                edc_SKN02\n",
       "            </td>\n",
       "        </tr>\n",
       "    \n",
       "        <tr style=\"background-color: hsl(120, 100.00%, 98.97%); border: none;\">\n",
       "            <td style=\"padding: 0 1em 0 0.5em; text-align: right; border: none;\">\n",
       "                0.0020\n",
       "                \n",
       "                    &plusmn; 0.0034\n",
       "                \n",
       "            </td>\n",
       "            <td style=\"padding: 0 0.5em 0 0.5em; text-align: left; border: none;\">\n",
       "                drug_21602823\n",
       "            </td>\n",
       "        </tr>\n",
       "    \n",
       "        <tr style=\"background-color: hsl(120, 100.00%, 99.21%); border: none;\">\n",
       "            <td style=\"padding: 0 1em 0 0.5em; text-align: right; border: none;\">\n",
       "                0.0013\n",
       "                \n",
       "                    &plusmn; 0.0006\n",
       "                \n",
       "            </td>\n",
       "            <td style=\"padding: 0 0.5em 0 0.5em; text-align: left; border: none;\">\n",
       "                edc_GSI01\n",
       "            </td>\n",
       "        </tr>\n",
       "    \n",
       "        <tr style=\"background-color: hsl(120, 100.00%, 99.23%); border: none;\">\n",
       "            <td style=\"padding: 0 1em 0 0.5em; text-align: right; border: none;\">\n",
       "                0.0013\n",
       "                \n",
       "                    &plusmn; 0.0035\n",
       "                \n",
       "            </td>\n",
       "            <td style=\"padding: 0 0.5em 0 0.5em; text-align: left; border: none;\">\n",
       "                gender_FEMALE\n",
       "            </td>\n",
       "        </tr>\n",
       "    \n",
       "        <tr style=\"background-color: hsl(120, 100.00%, 99.26%); border: none;\">\n",
       "            <td style=\"padding: 0 1em 0 0.5em; text-align: right; border: none;\">\n",
       "                0.0012\n",
       "                \n",
       "                    &plusmn; 0.0077\n",
       "                \n",
       "            </td>\n",
       "            <td style=\"padding: 0 0.5em 0 0.5em; text-align: left; border: none;\">\n",
       "                edc_EAR01\n",
       "            </td>\n",
       "        </tr>\n",
       "    \n",
       "        <tr style=\"background-color: hsl(120, 100.00%, 99.48%); border: none;\">\n",
       "            <td style=\"padding: 0 1em 0 0.5em; text-align: right; border: none;\">\n",
       "                0.0007\n",
       "                \n",
       "                    &plusmn; 0.0005\n",
       "                \n",
       "            </td>\n",
       "            <td style=\"padding: 0 0.5em 0 0.5em; text-align: left; border: none;\">\n",
       "                edc_SKN09\n",
       "            </td>\n",
       "        </tr>\n",
       "    \n",
       "    \n",
       "        \n",
       "            <tr style=\"background-color: hsl(120, 100.00%, 99.48%); border: none;\">\n",
       "                <td colspan=\"2\" style=\"padding: 0 0.5em 0 0.5em; text-align: center; border: none; white-space: nowrap;\">\n",
       "                    <i>&hellip; 628 more &hellip;</i>\n",
       "                </td>\n",
       "            </tr>\n",
       "        \n",
       "    \n",
       "    </tbody>\n",
       "</table>\n",
       "    \n",
       "\n",
       "    \n",
       "\n",
       "\n",
       "    \n",
       "\n",
       "    \n",
       "\n",
       "    \n",
       "\n",
       "    \n",
       "\n",
       "    \n",
       "\n",
       "    \n",
       "\n",
       "\n",
       "\n"
      ],
      "text/plain": [
       "<IPython.core.display.HTML object>"
      ]
     },
     "execution_count": 90,
     "metadata": {},
     "output_type": "execute_result"
    }
   ],
   "source": [
    "xgb = clf_xgb.fit(X_train,np.abs(y_train-1))\n",
    "\n",
    "perm_xgb = PermutationImportance(xgb,scoring='average_precision',random_state=0).fit(X_test, np.abs(y_test-1))\n",
    "\n",
    "eli5.show_weights(perm_xgb,feature_names = X_df.columns.values)"
   ]
  },
  {
   "cell_type": "code",
   "execution_count": 19,
   "metadata": {},
   "outputs": [],
   "source": [
    "results = list(zip(perm_xgb.feature_importances_, 2*perm_xgb.feature_importances_std_, X_df.columns.values))"
   ]
  },
  {
   "cell_type": "code",
   "execution_count": 20,
   "metadata": {},
   "outputs": [],
   "source": [
    "results_sorted = sorted(results, key=lambda x: x[0], reverse=True)"
   ]
  },
  {
   "cell_type": "code",
   "execution_count": 21,
   "metadata": {},
   "outputs": [],
   "source": [
    "feat_imp_df = pd.DataFrame(results_sorted, columns= ['Value','Confidence','Name'] )"
   ]
  },
  {
   "cell_type": "code",
   "execution_count": 22,
   "metadata": {},
   "outputs": [
    {
     "data": {
      "text/html": [
       "<div>\n",
       "<style scoped>\n",
       "    .dataframe tbody tr th:only-of-type {\n",
       "        vertical-align: middle;\n",
       "    }\n",
       "\n",
       "    .dataframe tbody tr th {\n",
       "        vertical-align: top;\n",
       "    }\n",
       "\n",
       "    .dataframe thead th {\n",
       "        text-align: right;\n",
       "    }\n",
       "</style>\n",
       "<table border=\"1\" class=\"dataframe\">\n",
       "  <thead>\n",
       "    <tr style=\"text-align: right;\">\n",
       "      <th></th>\n",
       "      <th>Value</th>\n",
       "      <th>Confidence</th>\n",
       "      <th>Name</th>\n",
       "    </tr>\n",
       "  </thead>\n",
       "  <tbody>\n",
       "    <tr>\n",
       "      <th>0</th>\n",
       "      <td>0.135541</td>\n",
       "      <td>0.026229</td>\n",
       "      <td>age_last_asthma</td>\n",
       "    </tr>\n",
       "    <tr>\n",
       "      <th>1</th>\n",
       "      <td>0.094655</td>\n",
       "      <td>0.040639</td>\n",
       "      <td>num_asthma_visits</td>\n",
       "    </tr>\n",
       "    <tr>\n",
       "      <th>2</th>\n",
       "      <td>0.036573</td>\n",
       "      <td>0.012641</td>\n",
       "      <td>proc_2314047</td>\n",
       "    </tr>\n",
       "    <tr>\n",
       "      <th>3</th>\n",
       "      <td>0.025736</td>\n",
       "      <td>0.022011</td>\n",
       "      <td>num_non_asthma_visits</td>\n",
       "    </tr>\n",
       "    <tr>\n",
       "      <th>4</th>\n",
       "      <td>0.017080</td>\n",
       "      <td>0.012776</td>\n",
       "      <td>meas_3028406</td>\n",
       "    </tr>\n",
       "  </tbody>\n",
       "</table>\n",
       "</div>"
      ],
      "text/plain": [
       "      Value  Confidence                   Name\n",
       "0  0.135541    0.026229        age_last_asthma\n",
       "1  0.094655    0.040639      num_asthma_visits\n",
       "2  0.036573    0.012641           proc_2314047\n",
       "3  0.025736    0.022011  num_non_asthma_visits\n",
       "4  0.017080    0.012776           meas_3028406"
      ]
     },
     "execution_count": 22,
     "metadata": {},
     "output_type": "execute_result"
    }
   ],
   "source": [
    "feat_imp_df.head()"
   ]
  },
  {
   "cell_type": "code",
   "execution_count": 23,
   "metadata": {},
   "outputs": [],
   "source": [
    "feat_imp_plot = feat_imp_df.iloc[:15,:].sort_values(by='Value')"
   ]
  },
  {
   "cell_type": "code",
   "execution_count": 24,
   "metadata": {},
   "outputs": [
    {
     "data": {
      "text/html": [
       "<div>\n",
       "<style scoped>\n",
       "    .dataframe tbody tr th:only-of-type {\n",
       "        vertical-align: middle;\n",
       "    }\n",
       "\n",
       "    .dataframe tbody tr th {\n",
       "        vertical-align: top;\n",
       "    }\n",
       "\n",
       "    .dataframe thead th {\n",
       "        text-align: right;\n",
       "    }\n",
       "</style>\n",
       "<table border=\"1\" class=\"dataframe\">\n",
       "  <thead>\n",
       "    <tr style=\"text-align: right;\">\n",
       "      <th></th>\n",
       "      <th>Value</th>\n",
       "      <th>Confidence</th>\n",
       "      <th>Name</th>\n",
       "    </tr>\n",
       "  </thead>\n",
       "  <tbody>\n",
       "    <tr>\n",
       "      <th>14</th>\n",
       "      <td>0.002198</td>\n",
       "      <td>0.003705</td>\n",
       "      <td>edc_SKN02</td>\n",
       "    </tr>\n",
       "    <tr>\n",
       "      <th>13</th>\n",
       "      <td>0.002367</td>\n",
       "      <td>0.000702</td>\n",
       "      <td>edc_GSU09</td>\n",
       "    </tr>\n",
       "    <tr>\n",
       "      <th>12</th>\n",
       "      <td>0.003120</td>\n",
       "      <td>0.000982</td>\n",
       "      <td>proc_2514424</td>\n",
       "    </tr>\n",
       "    <tr>\n",
       "      <th>11</th>\n",
       "      <td>0.005345</td>\n",
       "      <td>0.003274</td>\n",
       "      <td>drug_21604344</td>\n",
       "    </tr>\n",
       "    <tr>\n",
       "      <th>10</th>\n",
       "      <td>0.005692</td>\n",
       "      <td>0.006008</td>\n",
       "      <td>drug_21603356</td>\n",
       "    </tr>\n",
       "    <tr>\n",
       "      <th>9</th>\n",
       "      <td>0.006322</td>\n",
       "      <td>0.006016</td>\n",
       "      <td>edc_ALL03</td>\n",
       "    </tr>\n",
       "    <tr>\n",
       "      <th>8</th>\n",
       "      <td>0.007109</td>\n",
       "      <td>0.002566</td>\n",
       "      <td>drug_21603497</td>\n",
       "    </tr>\n",
       "    <tr>\n",
       "      <th>7</th>\n",
       "      <td>0.009287</td>\n",
       "      <td>0.004560</td>\n",
       "      <td>race_White</td>\n",
       "    </tr>\n",
       "    <tr>\n",
       "      <th>6</th>\n",
       "      <td>0.009586</td>\n",
       "      <td>0.005191</td>\n",
       "      <td>age_first_asthma</td>\n",
       "    </tr>\n",
       "    <tr>\n",
       "      <th>5</th>\n",
       "      <td>0.013702</td>\n",
       "      <td>0.008733</td>\n",
       "      <td>race_Black or African American</td>\n",
       "    </tr>\n",
       "    <tr>\n",
       "      <th>4</th>\n",
       "      <td>0.017080</td>\n",
       "      <td>0.012776</td>\n",
       "      <td>meas_3028406</td>\n",
       "    </tr>\n",
       "    <tr>\n",
       "      <th>3</th>\n",
       "      <td>0.025736</td>\n",
       "      <td>0.022011</td>\n",
       "      <td>num_non_asthma_visits</td>\n",
       "    </tr>\n",
       "    <tr>\n",
       "      <th>2</th>\n",
       "      <td>0.036573</td>\n",
       "      <td>0.012641</td>\n",
       "      <td>proc_2314047</td>\n",
       "    </tr>\n",
       "    <tr>\n",
       "      <th>1</th>\n",
       "      <td>0.094655</td>\n",
       "      <td>0.040639</td>\n",
       "      <td>num_asthma_visits</td>\n",
       "    </tr>\n",
       "    <tr>\n",
       "      <th>0</th>\n",
       "      <td>0.135541</td>\n",
       "      <td>0.026229</td>\n",
       "      <td>age_last_asthma</td>\n",
       "    </tr>\n",
       "  </tbody>\n",
       "</table>\n",
       "</div>"
      ],
      "text/plain": [
       "       Value  Confidence                            Name\n",
       "14  0.002198    0.003705                       edc_SKN02\n",
       "13  0.002367    0.000702                       edc_GSU09\n",
       "12  0.003120    0.000982                    proc_2514424\n",
       "11  0.005345    0.003274                   drug_21604344\n",
       "10  0.005692    0.006008                   drug_21603356\n",
       "9   0.006322    0.006016                       edc_ALL03\n",
       "8   0.007109    0.002566                   drug_21603497\n",
       "7   0.009287    0.004560                      race_White\n",
       "6   0.009586    0.005191                age_first_asthma\n",
       "5   0.013702    0.008733  race_Black or African American\n",
       "4   0.017080    0.012776                    meas_3028406\n",
       "3   0.025736    0.022011           num_non_asthma_visits\n",
       "2   0.036573    0.012641                    proc_2314047\n",
       "1   0.094655    0.040639               num_asthma_visits\n",
       "0   0.135541    0.026229                 age_last_asthma"
      ]
     },
     "execution_count": 24,
     "metadata": {},
     "output_type": "execute_result"
    }
   ],
   "source": [
    "feat_imp_plot"
   ]
  },
  {
   "cell_type": "markdown",
   "metadata": {},
   "source": [
    "proc_2314047 - \"Noninvasive ear or pulse oximetry for oxygen saturation; single determination\"\n",
    "proc_2313735 - \"Tympanometry (impedance testing)\"\n",
    "proc_2514424 - \"Inpatient consultation for a new or established patient, which requires these 3 key components: A comprehensive history; A comprehensive examination; and Medical decision making of high complexity. Counseling and/or coordination of care with other physici\"\n",
    "\n",
    "meas_3028406 - \"Lead [Mass/volume] in Capillary blood\"\n",
    "\n",
    "edc_ALL03 - \"Allergic rhinitis\"  \n",
    "edc_GSU09 - \"Nonfungal infections of skin and subcutaneous tissue\"\n",
    "edc_SKN02 - \"Dermatitis and eczema\"\n",
    "\n",
    "drug_21602823 - Amoxicillin  \n",
    "drug_21604344 - Acetaminophen  \n",
    "drug_21603497 - cetirizine hydrochloride  \n",
    "drug_21603356 - montelukast  "
   ]
  },
  {
   "cell_type": "code",
   "execution_count": 25,
   "metadata": {},
   "outputs": [],
   "source": [
    "feat_imp_plot.loc[:]['Name'] = ['Dermatitis and eczema','Nonfungal infections of skin','Inpatient Consultation',\n",
    "                                'Acetaminophen', 'Montelukast','Allergic Rhinitis',\n",
    "                                'Cetirizine Hydrochloride','White (Race)','Age at first asthma diagnosis',\n",
    "                                'Black (Race)','Capillary blood lead test','Number of non-asthma related visits',\n",
    "                                'Noninvasive pulse oximetry','Number of asthma related visits','Age at last asthma diagnosis']"
   ]
  },
  {
   "cell_type": "code",
   "execution_count": null,
   "metadata": {},
   "outputs": [],
   "source": []
  },
  {
   "cell_type": "code",
   "execution_count": 28,
   "metadata": {},
   "outputs": [
    {
     "data": {
      "image/png": "[encoded data removed]",
      "text/plain": [
       "<Figure size 720x576 with 1 Axes>"
      ]
     },
     "metadata": {
      "needs_background": "light"
     },
     "output_type": "display_data"
    }
   ],
   "source": [
    "LABEL_FONT_SIZE = 16\n",
    "TITLE_FONT_SIZE = 18\n",
    "LEGEND_FONT_SIZE = 16\n",
    "TICK_FONT_SIZE = 14\n",
    "MULTI_FIG_SIZE = (16, 14)\n",
    "SINGLE_FIG_SIZE = (10,8)\n",
    "MARKER_SIZE = 10\n",
    "\n",
    "fig, ax = plt.subplots(1, 1, figsize=SINGLE_FIG_SIZE)\n",
    "lw = 2\n",
    "\n",
    "plt.errorbar(feat_imp_plot['Value'],feat_imp_plot['Name'],\n",
    "             xerr=feat_imp_plot['Confidence'].values,fmt='ok', capsize=3, ecolor = 'green', lw=lw);\n",
    "ax.set_xlabel(xlabel='Feature Importance', fontsize=LABEL_FONT_SIZE)\n",
    "ax.set_axisbelow(True)\n",
    "set_tick_fontsize(ax, TICK_FONT_SIZE)\n",
    "ax.yaxis.grid(color='gray', linestyle='dashed')\n",
    "ax.set_title('Permutation Feature Importance for XGBoost', fontsize=TITLE_FONT_SIZE);\n",
    "\n"
   ]
  },
  {
   "cell_type": "code",
   "execution_count": 30,
   "metadata": {},
   "outputs": [],
   "source": [
    "img_out_path = '../reports/figures/'\n",
    "fig.savefig(img_out_path+'perm_feat_imp.pdf', dpi=300, bbox_inches='tight', pad_inches=.15)"
   ]
  },
  {
   "cell_type": "code",
   "execution_count": null,
   "metadata": {},
   "outputs": [],
   "source": []
  },
  {
   "cell_type": "markdown",
   "metadata": {},
   "source": [
    "## Statistical Test"
   ]
  },
  {
   "cell_type": "markdown",
   "metadata": {},
   "source": [
    "### Friedman Rank Sum Test"
   ]
  },
  {
   "cell_type": "code",
   "execution_count": 62,
   "metadata": {},
   "outputs": [],
   "source": [
    "stat_results = []\n",
    "stat_results.append(nb_results['results'])\n",
    "stat_results.append(knn_results['results'])\n",
    "stat_results.append(lr_results['results'])\n",
    "stat_results.append(rf_results['results'])\n",
    "stat_results.append(xgb_results['results'])\n"
   ]
  },
  {
   "cell_type": "code",
   "execution_count": null,
   "metadata": {},
   "outputs": [],
   "source": []
  },
  {
   "cell_type": "code",
   "execution_count": 63,
   "metadata": {},
   "outputs": [
    {
     "data": {
      "text/plain": [
       "['class_weight_cb_anovaF_fs_01_nb',\n",
       " 'rand_under_cb_multisurf_fs_01_knn',\n",
       " 'rand_under_cb_chi2_reliefF_fs_01_lr',\n",
       " 'tomek_cb_no_fs_01_rf',\n",
       " 'class_weight_cb_no_fs_01_xgb']"
      ]
     },
     "execution_count": 63,
     "metadata": {},
     "output_type": "execute_result"
    }
   ],
   "source": [
    "[i['algo'] for i in stat_results]"
   ]
  },
  {
   "cell_type": "code",
   "execution_count": 64,
   "metadata": {},
   "outputs": [],
   "source": [
    "apr_matrix = np.array([])\n",
    "for i in range(len(stat_results)):\n",
    "    apr_matrix = np.append(apr_matrix,stat_results[i]['param_sorted'][0]['loss_cv'])\n"
   ]
  },
  {
   "cell_type": "code",
   "execution_count": 65,
   "metadata": {
    "scrolled": true
   },
   "outputs": [
    {
     "data": {
      "text/plain": [
       "array([0.32782498, 0.31966093, 0.26869112, 0.25264173, 0.27554994,\n",
       "       0.32782498, 0.31966093, 0.26869112, 0.25264173, 0.27554994,\n",
       "       0.38818858, 0.42945617, 0.31834931, 0.41282595, 0.43230174,\n",
       "       0.38818858, 0.42945617, 0.31834931, 0.41282595, 0.43230174,\n",
       "       0.4246521 , 0.44678653, 0.34584455, 0.42243618, 0.44346046,\n",
       "       0.4246521 , 0.44678653, 0.34584455, 0.42243618, 0.44346046,\n",
       "       0.44030342, 0.45154609, 0.34379869, 0.42283482, 0.44344842,\n",
       "       0.44338317, 0.44720837, 0.34610662, 0.4163294 , 0.44494868,\n",
       "       0.43010168, 0.44721667, 0.3795617 , 0.42718637, 0.45198958,\n",
       "       0.43010168, 0.44721667, 0.3795617 , 0.42718637, 0.45198958])"
      ]
     },
     "execution_count": 65,
     "metadata": {},
     "output_type": "execute_result"
    }
   ],
   "source": [
    "apr_matrix"
   ]
  },
  {
   "cell_type": "code",
   "execution_count": 66,
   "metadata": {},
   "outputs": [],
   "source": [
    "apr_matrix = np.reshape(apr_matrix,(len(stat_results),len(stat_results[0]['param_sorted'][0]['loss_cv'])))"
   ]
  },
  {
   "cell_type": "code",
   "execution_count": 67,
   "metadata": {},
   "outputs": [],
   "source": [
    "apr_matrix = np.vstack((apr_matrix,[0.11,0.11,0.11,0.11,0.11,0.11,0.11,0.11,0.11,0.11]))"
   ]
  },
  {
   "cell_type": "code",
   "execution_count": 68,
   "metadata": {
    "scrolled": true
   },
   "outputs": [
    {
     "data": {
      "text/plain": [
       "array([[0.32782498, 0.31966093, 0.26869112, 0.25264173, 0.27554994,\n",
       "        0.32782498, 0.31966093, 0.26869112, 0.25264173, 0.27554994],\n",
       "       [0.38818858, 0.42945617, 0.31834931, 0.41282595, 0.43230174,\n",
       "        0.38818858, 0.42945617, 0.31834931, 0.41282595, 0.43230174],\n",
       "       [0.4246521 , 0.44678653, 0.34584455, 0.42243618, 0.44346046,\n",
       "        0.4246521 , 0.44678653, 0.34584455, 0.42243618, 0.44346046],\n",
       "       [0.44030342, 0.45154609, 0.34379869, 0.42283482, 0.44344842,\n",
       "        0.44338317, 0.44720837, 0.34610662, 0.4163294 , 0.44494868],\n",
       "       [0.43010168, 0.44721667, 0.3795617 , 0.42718637, 0.45198958,\n",
       "        0.43010168, 0.44721667, 0.3795617 , 0.42718637, 0.45198958],\n",
       "       [0.11      , 0.11      , 0.11      , 0.11      , 0.11      ,\n",
       "        0.11      , 0.11      , 0.11      , 0.11      , 0.11      ]])"
      ]
     },
     "execution_count": 68,
     "metadata": {},
     "output_type": "execute_result"
    }
   ],
   "source": [
    "apr_matrix"
   ]
  },
  {
   "cell_type": "code",
   "execution_count": 69,
   "metadata": {},
   "outputs": [
    {
     "data": {
      "text/plain": [
       "array([0.28887374, 0.39622435, 0.41663596, 0.41999077, 0.4272112 ,\n",
       "       0.11      ])"
      ]
     },
     "execution_count": 69,
     "metadata": {},
     "output_type": "execute_result"
    }
   ],
   "source": [
    "np.mean(apr_matrix,axis=1)"
   ]
  },
  {
   "cell_type": "code",
   "execution_count": null,
   "metadata": {},
   "outputs": [],
   "source": []
  },
  {
   "cell_type": "code",
   "execution_count": 70,
   "metadata": {},
   "outputs": [],
   "source": [
    "chi2,p = friedmanchisquare(*apr_matrix)"
   ]
  },
  {
   "cell_type": "code",
   "execution_count": 71,
   "metadata": {},
   "outputs": [
    {
     "data": {
      "text/plain": [
       "(47.08571428571429, 5.4573949492623e-09)"
      ]
     },
     "execution_count": 71,
     "metadata": {},
     "output_type": "execute_result"
    }
   ],
   "source": [
    "chi2,p"
   ]
  },
  {
   "cell_type": "markdown",
   "metadata": {},
   "source": [
    "### Two-sided exact permutation test"
   ]
  },
  {
   "cell_type": "code",
   "execution_count": 72,
   "metadata": {},
   "outputs": [],
   "source": [
    "alg_names = ['Naive Bayes', 'K-Nearest Neighbors','Logistic Regression', 'Random Forest', 'XGBoost', 'Random Classifier']"
   ]
  },
  {
   "cell_type": "code",
   "execution_count": 73,
   "metadata": {},
   "outputs": [
    {
     "name": "stdout",
     "output_type": "stream",
     "text": [
      "0.0001515512351425664\n",
      "0.0\n",
      "0.0\n",
      "0.0\n",
      "0.0\n",
      "0.2904912425036264\n",
      "0.22875576435947953\n",
      "0.07519106280716188\n",
      "0.0\n",
      "0.8020091363744615\n",
      "0.49571326506311025\n",
      "0.0\n",
      "0.640672021476975\n",
      "0.0\n",
      "0.0\n"
     ]
    }
   ],
   "source": [
    "combs = it.combinations(range(len(apr_matrix)), 2)\n",
    "p_two_way_arr = np.ones((len(alg_names),len(alg_names)))\n",
    "for i, j in combs:\n",
    "    p = permutation_test(apr_matrix[i], apr_matrix[j], method='exact',seed=0)\n",
    "    print(p)\n",
    "    p_two_way_arr[i,j] = p\n"
   ]
  },
  {
   "cell_type": "code",
   "execution_count": 75,
   "metadata": {},
   "outputs": [],
   "source": [
    "def symmetrize(a):\n",
    "    return a + a.T - np.ones((len(a),len(a)))"
   ]
  },
  {
   "cell_type": "code",
   "execution_count": 76,
   "metadata": {},
   "outputs": [],
   "source": [
    "p_two_way_arr = symmetrize(p_two_way_arr)"
   ]
  },
  {
   "cell_type": "code",
   "execution_count": 77,
   "metadata": {},
   "outputs": [],
   "source": [
    "p_two_way_df = pd.DataFrame(p_two_way_arr)"
   ]
  },
  {
   "cell_type": "code",
   "execution_count": 79,
   "metadata": {},
   "outputs": [],
   "source": [
    "p_two_way_df.index = alg_names\n",
    "p_two_way_df.columns = alg_names"
   ]
  },
  {
   "cell_type": "code",
   "execution_count": 80,
   "metadata": {},
   "outputs": [
    {
     "data": {
      "text/html": [
       "<div>\n",
       "<style scoped>\n",
       "    .dataframe tbody tr th:only-of-type {\n",
       "        vertical-align: middle;\n",
       "    }\n",
       "\n",
       "    .dataframe tbody tr th {\n",
       "        vertical-align: top;\n",
       "    }\n",
       "\n",
       "    .dataframe thead th {\n",
       "        text-align: right;\n",
       "    }\n",
       "</style>\n",
       "<table border=\"1\" class=\"dataframe\">\n",
       "  <thead>\n",
       "    <tr style=\"text-align: right;\">\n",
       "      <th></th>\n",
       "      <th>Naive Bayes</th>\n",
       "      <th>K-Nearest Neighbors</th>\n",
       "      <th>Logistic Regression</th>\n",
       "      <th>Random Forest</th>\n",
       "      <th>XGBoost</th>\n",
       "      <th>Random Classifier</th>\n",
       "    </tr>\n",
       "  </thead>\n",
       "  <tbody>\n",
       "    <tr>\n",
       "      <th>Naive Bayes</th>\n",
       "      <td>1.000000</td>\n",
       "      <td>0.000152</td>\n",
       "      <td>0.000000</td>\n",
       "      <td>0.000000</td>\n",
       "      <td>0.000000</td>\n",
       "      <td>0.0</td>\n",
       "    </tr>\n",
       "    <tr>\n",
       "      <th>K-Nearest Neighbors</th>\n",
       "      <td>0.000152</td>\n",
       "      <td>1.000000</td>\n",
       "      <td>0.290491</td>\n",
       "      <td>0.228756</td>\n",
       "      <td>0.075191</td>\n",
       "      <td>0.0</td>\n",
       "    </tr>\n",
       "    <tr>\n",
       "      <th>Logistic Regression</th>\n",
       "      <td>0.000000</td>\n",
       "      <td>0.290491</td>\n",
       "      <td>1.000000</td>\n",
       "      <td>0.802009</td>\n",
       "      <td>0.495713</td>\n",
       "      <td>0.0</td>\n",
       "    </tr>\n",
       "    <tr>\n",
       "      <th>Random Forest</th>\n",
       "      <td>0.000000</td>\n",
       "      <td>0.228756</td>\n",
       "      <td>0.802009</td>\n",
       "      <td>1.000000</td>\n",
       "      <td>0.640672</td>\n",
       "      <td>0.0</td>\n",
       "    </tr>\n",
       "    <tr>\n",
       "      <th>XGBoost</th>\n",
       "      <td>0.000000</td>\n",
       "      <td>0.075191</td>\n",
       "      <td>0.495713</td>\n",
       "      <td>0.640672</td>\n",
       "      <td>1.000000</td>\n",
       "      <td>0.0</td>\n",
       "    </tr>\n",
       "    <tr>\n",
       "      <th>Random Classifier</th>\n",
       "      <td>0.000000</td>\n",
       "      <td>0.000000</td>\n",
       "      <td>0.000000</td>\n",
       "      <td>0.000000</td>\n",
       "      <td>0.000000</td>\n",
       "      <td>1.0</td>\n",
       "    </tr>\n",
       "  </tbody>\n",
       "</table>\n",
       "</div>"
      ],
      "text/plain": [
       "                     Naive Bayes  K-Nearest Neighbors  Logistic Regression  \\\n",
       "Naive Bayes             1.000000             0.000152             0.000000   \n",
       "K-Nearest Neighbors     0.000152             1.000000             0.290491   \n",
       "Logistic Regression     0.000000             0.290491             1.000000   \n",
       "Random Forest           0.000000             0.228756             0.802009   \n",
       "XGBoost                 0.000000             0.075191             0.495713   \n",
       "Random Classifier       0.000000             0.000000             0.000000   \n",
       "\n",
       "                     Random Forest   XGBoost  Random Classifier  \n",
       "Naive Bayes               0.000000  0.000000                0.0  \n",
       "K-Nearest Neighbors       0.228756  0.075191                0.0  \n",
       "Logistic Regression       0.802009  0.495713                0.0  \n",
       "Random Forest             1.000000  0.640672                0.0  \n",
       "XGBoost                   0.640672  1.000000                0.0  \n",
       "Random Classifier         0.000000  0.000000                1.0  "
      ]
     },
     "execution_count": 80,
     "metadata": {},
     "output_type": "execute_result"
    }
   ],
   "source": [
    "p_two_way_df"
   ]
  },
  {
   "cell_type": "markdown",
   "metadata": {},
   "source": [
    "### One-Sided exact permutation test"
   ]
  },
  {
   "cell_type": "code",
   "execution_count": 81,
   "metadata": {},
   "outputs": [
    {
     "name": "stdout",
     "output_type": "stream",
     "text": [
      "7.57756175712832e-05\n",
      "0.0\n",
      "0.0\n",
      "0.0\n",
      "0.9999945874558878\n",
      "0.1452456212518132\n",
      "0.11437788217973976\n",
      "0.03759553140358094\n",
      "0.9999945874558878\n",
      "0.40100456818723074\n",
      "0.24785663253155513\n",
      "0.9999945874558878\n",
      "0.3203360107384875\n",
      "0.9999945874558878\n",
      "0.9999945874558878\n"
     ]
    }
   ],
   "source": [
    "combs = it.combinations(range(len(apr_matrix)), 2)\n",
    "p_lgr_arr = np.ones((len(alg_names),len(alg_names)))\n",
    "for i, j in combs:\n",
    "    p = permutation_test(apr_matrix[i], apr_matrix[j], method='exact',seed=0, func = 'x_mean < y_mean')\n",
    "    print(p)\n",
    "    p_lgr_arr[i,j] = p\n"
   ]
  },
  {
   "cell_type": "code",
   "execution_count": 82,
   "metadata": {},
   "outputs": [
    {
     "data": {
      "text/html": [
       "<div>\n",
       "<style scoped>\n",
       "    .dataframe tbody tr th:only-of-type {\n",
       "        vertical-align: middle;\n",
       "    }\n",
       "\n",
       "    .dataframe tbody tr th {\n",
       "        vertical-align: top;\n",
       "    }\n",
       "\n",
       "    .dataframe thead th {\n",
       "        text-align: right;\n",
       "    }\n",
       "</style>\n",
       "<table border=\"1\" class=\"dataframe\">\n",
       "  <thead>\n",
       "    <tr style=\"text-align: right;\">\n",
       "      <th></th>\n",
       "      <th>Naive Bayes</th>\n",
       "      <th>K-Nearest Neighbors</th>\n",
       "      <th>Logistic Regression</th>\n",
       "      <th>Random Forest</th>\n",
       "      <th>XGBoost</th>\n",
       "      <th>Random Classifier</th>\n",
       "    </tr>\n",
       "  </thead>\n",
       "  <tbody>\n",
       "    <tr>\n",
       "      <th>Naive Bayes</th>\n",
       "      <td>1.000000</td>\n",
       "      <td>0.000076</td>\n",
       "      <td>0.000000</td>\n",
       "      <td>0.000000</td>\n",
       "      <td>0.000000</td>\n",
       "      <td>0.999995</td>\n",
       "    </tr>\n",
       "    <tr>\n",
       "      <th>K-Nearest Neighbors</th>\n",
       "      <td>0.000076</td>\n",
       "      <td>1.000000</td>\n",
       "      <td>0.145246</td>\n",
       "      <td>0.114378</td>\n",
       "      <td>0.037596</td>\n",
       "      <td>0.999995</td>\n",
       "    </tr>\n",
       "    <tr>\n",
       "      <th>Logistic Regression</th>\n",
       "      <td>0.000000</td>\n",
       "      <td>0.145246</td>\n",
       "      <td>1.000000</td>\n",
       "      <td>0.401005</td>\n",
       "      <td>0.247857</td>\n",
       "      <td>0.999995</td>\n",
       "    </tr>\n",
       "    <tr>\n",
       "      <th>Random Forest</th>\n",
       "      <td>0.000000</td>\n",
       "      <td>0.114378</td>\n",
       "      <td>0.401005</td>\n",
       "      <td>1.000000</td>\n",
       "      <td>0.320336</td>\n",
       "      <td>0.999995</td>\n",
       "    </tr>\n",
       "    <tr>\n",
       "      <th>XGBoost</th>\n",
       "      <td>0.000000</td>\n",
       "      <td>0.037596</td>\n",
       "      <td>0.247857</td>\n",
       "      <td>0.320336</td>\n",
       "      <td>1.000000</td>\n",
       "      <td>0.999995</td>\n",
       "    </tr>\n",
       "    <tr>\n",
       "      <th>Random Classifier</th>\n",
       "      <td>0.999995</td>\n",
       "      <td>0.999995</td>\n",
       "      <td>0.999995</td>\n",
       "      <td>0.999995</td>\n",
       "      <td>0.999995</td>\n",
       "      <td>1.000000</td>\n",
       "    </tr>\n",
       "  </tbody>\n",
       "</table>\n",
       "</div>"
      ],
      "text/plain": [
       "                     Naive Bayes  K-Nearest Neighbors  Logistic Regression  \\\n",
       "Naive Bayes             1.000000             0.000076             0.000000   \n",
       "K-Nearest Neighbors     0.000076             1.000000             0.145246   \n",
       "Logistic Regression     0.000000             0.145246             1.000000   \n",
       "Random Forest           0.000000             0.114378             0.401005   \n",
       "XGBoost                 0.000000             0.037596             0.247857   \n",
       "Random Classifier       0.999995             0.999995             0.999995   \n",
       "\n",
       "                     Random Forest   XGBoost  Random Classifier  \n",
       "Naive Bayes               0.000000  0.000000           0.999995  \n",
       "K-Nearest Neighbors       0.114378  0.037596           0.999995  \n",
       "Logistic Regression       0.401005  0.247857           0.999995  \n",
       "Random Forest             1.000000  0.320336           0.999995  \n",
       "XGBoost                   0.320336  1.000000           0.999995  \n",
       "Random Classifier         0.999995  0.999995           1.000000  "
      ]
     },
     "execution_count": 82,
     "metadata": {},
     "output_type": "execute_result"
    }
   ],
   "source": [
    "p_lgr_arr = symmetrize(p_lgr_arr)\n",
    "\n",
    "p_lgr_df = pd.DataFrame(p_lgr_arr)\n",
    "\n",
    "p_lgr_df.index = alg_names\n",
    "p_lgr_df.columns = alg_names\n",
    "\n",
    "p_lgr_df"
   ]
  },
  {
   "cell_type": "code",
   "execution_count": 83,
   "metadata": {},
   "outputs": [
    {
     "name": "stdout",
     "output_type": "stream",
     "text": [
      "0.9999188118383164\n",
      "0.9999945874558878\n",
      "0.9999945874558878\n",
      "0.9999945874558878\n",
      "0.0\n",
      "0.8547489662040746\n",
      "0.885616705276148\n",
      "0.9623990560523068\n",
      "0.0\n",
      "0.598990019268657\n",
      "0.7521379549243327\n",
      "0.0\n",
      "0.6796585767174003\n",
      "0.0\n",
      "0.0\n"
     ]
    }
   ],
   "source": [
    "combs = it.combinations(range(len(apr_matrix)), 2)\n",
    "p_llr_arr = np.ones((len(alg_names),len(alg_names)))\n",
    "for i, j in combs:\n",
    "    p = permutation_test(apr_matrix[i], apr_matrix[j], method='exact',seed=0, func = 'x_mean > y_mean')\n",
    "    print(p)\n",
    "    p_llr_arr[i,j] = p\n",
    "\n"
   ]
  },
  {
   "cell_type": "code",
   "execution_count": 84,
   "metadata": {},
   "outputs": [
    {
     "data": {
      "text/html": [
       "<div>\n",
       "<style scoped>\n",
       "    .dataframe tbody tr th:only-of-type {\n",
       "        vertical-align: middle;\n",
       "    }\n",
       "\n",
       "    .dataframe tbody tr th {\n",
       "        vertical-align: top;\n",
       "    }\n",
       "\n",
       "    .dataframe thead th {\n",
       "        text-align: right;\n",
       "    }\n",
       "</style>\n",
       "<table border=\"1\" class=\"dataframe\">\n",
       "  <thead>\n",
       "    <tr style=\"text-align: right;\">\n",
       "      <th></th>\n",
       "      <th>Naive Bayes</th>\n",
       "      <th>K-Nearest Neighbors</th>\n",
       "      <th>Logistic Regression</th>\n",
       "      <th>Random Forest</th>\n",
       "      <th>XGBoost</th>\n",
       "      <th>Random Classifier</th>\n",
       "    </tr>\n",
       "  </thead>\n",
       "  <tbody>\n",
       "    <tr>\n",
       "      <th>Naive Bayes</th>\n",
       "      <td>1.000000</td>\n",
       "      <td>0.999919</td>\n",
       "      <td>0.999995</td>\n",
       "      <td>0.999995</td>\n",
       "      <td>0.999995</td>\n",
       "      <td>0.0</td>\n",
       "    </tr>\n",
       "    <tr>\n",
       "      <th>K-Nearest Neighbors</th>\n",
       "      <td>0.999919</td>\n",
       "      <td>1.000000</td>\n",
       "      <td>0.854749</td>\n",
       "      <td>0.885617</td>\n",
       "      <td>0.962399</td>\n",
       "      <td>0.0</td>\n",
       "    </tr>\n",
       "    <tr>\n",
       "      <th>Logistic Regression</th>\n",
       "      <td>0.999995</td>\n",
       "      <td>0.854749</td>\n",
       "      <td>1.000000</td>\n",
       "      <td>0.598990</td>\n",
       "      <td>0.752138</td>\n",
       "      <td>0.0</td>\n",
       "    </tr>\n",
       "    <tr>\n",
       "      <th>Random Forest</th>\n",
       "      <td>0.999995</td>\n",
       "      <td>0.885617</td>\n",
       "      <td>0.598990</td>\n",
       "      <td>1.000000</td>\n",
       "      <td>0.679659</td>\n",
       "      <td>0.0</td>\n",
       "    </tr>\n",
       "    <tr>\n",
       "      <th>XGBoost</th>\n",
       "      <td>0.999995</td>\n",
       "      <td>0.962399</td>\n",
       "      <td>0.752138</td>\n",
       "      <td>0.679659</td>\n",
       "      <td>1.000000</td>\n",
       "      <td>0.0</td>\n",
       "    </tr>\n",
       "    <tr>\n",
       "      <th>Random Classifier</th>\n",
       "      <td>0.000000</td>\n",
       "      <td>0.000000</td>\n",
       "      <td>0.000000</td>\n",
       "      <td>0.000000</td>\n",
       "      <td>0.000000</td>\n",
       "      <td>1.0</td>\n",
       "    </tr>\n",
       "  </tbody>\n",
       "</table>\n",
       "</div>"
      ],
      "text/plain": [
       "                     Naive Bayes  K-Nearest Neighbors  Logistic Regression  \\\n",
       "Naive Bayes             1.000000             0.999919             0.999995   \n",
       "K-Nearest Neighbors     0.999919             1.000000             0.854749   \n",
       "Logistic Regression     0.999995             0.854749             1.000000   \n",
       "Random Forest           0.999995             0.885617             0.598990   \n",
       "XGBoost                 0.999995             0.962399             0.752138   \n",
       "Random Classifier       0.000000             0.000000             0.000000   \n",
       "\n",
       "                     Random Forest   XGBoost  Random Classifier  \n",
       "Naive Bayes               0.999995  0.999995                0.0  \n",
       "K-Nearest Neighbors       0.885617  0.962399                0.0  \n",
       "Logistic Regression       0.598990  0.752138                0.0  \n",
       "Random Forest             1.000000  0.679659                0.0  \n",
       "XGBoost                   0.679659  1.000000                0.0  \n",
       "Random Classifier         0.000000  0.000000                1.0  "
      ]
     },
     "execution_count": 84,
     "metadata": {},
     "output_type": "execute_result"
    }
   ],
   "source": [
    "p_llr_arr = symmetrize(p_llr_arr)\n",
    "\n",
    "p_llr_df = pd.DataFrame(p_llr_arr)\n",
    "\n",
    "p_llr_df.index = alg_names\n",
    "p_llr_df.columns = alg_names\n",
    "\n",
    "p_llr_df"
   ]
  },
  {
   "cell_type": "code",
   "execution_count": null,
   "metadata": {},
   "outputs": [],
   "source": []
  }
 ],
 "metadata": {
  "kernelspec": {
   "display_name": "Python 3",
   "language": "python",
   "name": "python3"
  },
  "language_info": {
   "codemirror_mode": {
    "name": "ipython",
    "version": 3
   },
   "file_extension": ".py",
   "mimetype": "text/x-python",
   "name": "python",
   "nbconvert_exporter": "python",
   "pygments_lexer": "ipython3",
   "version": "3.6.8"
  }
 },
 "nbformat": 4,
 "nbformat_minor": 4
}
